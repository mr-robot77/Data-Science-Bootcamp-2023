{
 "cells": [
  {
   "attachments": {},
   "cell_type": "markdown",
   "metadata": {},
   "source": [
    "<h1 align=center style=\"line-height:200%;font-family:vazir;color:#0099cc\">\n",
    "<font face=\"vazir\" color=\"#0099cc\">\n",
    "کثیر السفر\n",
    "</font>\n",
    "</h1>\n",
    "\n",
    "<p dir=rtl style=\"direction: rtl;text-align: justify;line-height:200%;font-family:vazir;font-size:medium\">\n",
    "<font face=\"vazir\" size=3>\n",
    "\n",
    "</font>\n",
    "</p>"
   ]
  },
  {
   "cell_type": "code",
   "execution_count": 1,
   "metadata": {},
   "outputs": [],
   "source": [
    "import numpy as np\n",
    "import numpy.linalg as la"
   ]
  },
  {
   "attachments": {},
   "cell_type": "markdown",
   "metadata": {},
   "source": [
    "<h2 align=right style=\"line-height:200%;font-family:vazir;color:#0099cc\">\n",
    "<font face=\"vazir\" color=\"#0099cc\">\n",
    "بخش اول\n",
    "</font>\n",
    "</h2>\n",
    "\n",
    "<p dir=rtl style=\"direction: rtl;text-align: justify;line-height:200%;font-family:vazir;font-size:medium\">\n",
    "<font face=\"vazir\" size=3>\n",
    "به ازای ۳ مقدار احتمال اولیه داده شده در هر سل، احتمال حضور الیزابت در هر شهر در روز ۷ ام را محاسبه کنید و به ترتیب در متغیر‌های b ،a و c (به صورت آرایه نامپای) ذخیره نمایید.\n",
    "</font>\n",
    "</p>"
   ]
  },
  {
   "cell_type": "code",
   "execution_count": 2,
   "metadata": {},
   "outputs": [],
   "source": [
    "T1 = np.array([[0  , 1/4, 0 , 0 , 0  , 1/5],\n",
    "               [1/3,  0 , 0 ,1/2,1/2 ,  0 ],\n",
    "               [0  , 1/4, 0 , 0 , 0  , 1/5],\n",
    "               [0  , 1/4, 1 ,1/2,1/2 , 1/5],\n",
    "               [1/3, 1/4, 0 , 0 , 0  , 1/5],\n",
    "               [1/3,  0 , 0 , 0 , 0  , 1/5]])"
   ]
  },
  {
   "cell_type": "code",
   "execution_count": 3,
   "metadata": {},
   "outputs": [],
   "source": [
    "p = np.array([0,0,0,0,0,100])"
   ]
  },
  {
   "cell_type": "code",
   "execution_count": 4,
   "metadata": {},
   "outputs": [],
   "source": [
    "a = np.dot(la.matrix_power(T1, 7), p)"
   ]
  },
  {
   "cell_type": "code",
   "execution_count": 5,
   "metadata": {},
   "outputs": [],
   "source": [
    "p = np.array([0,0,0,50,0,50])"
   ]
  },
  {
   "cell_type": "code",
   "execution_count": 6,
   "metadata": {},
   "outputs": [],
   "source": [
    "b = np.dot(la.matrix_power(T1, 7), p)"
   ]
  },
  {
   "cell_type": "code",
   "execution_count": 7,
   "metadata": {},
   "outputs": [],
   "source": [
    "p = np.array([50,10,10,10,10,10])"
   ]
  },
  {
   "cell_type": "code",
   "execution_count": 8,
   "metadata": {},
   "outputs": [],
   "source": [
    "c = np.dot(la.matrix_power(T1, 7), p)"
   ]
  },
  {
   "cell_type": "markdown",
   "metadata": {},
   "source": [
    "\n",
    "<p dir=rtl style=\"direction: rtl;text-align: justify;line-height:200%;font-family:vazir;font-size:medium\">\n",
    "<font face=\"vazir\" size=3>\n",
    "مقادیر ويژه ماتریس <code>T1</code> را محاسبه کرده و آن‌ها را به ترتیب از مقدار ویژه با اندازه بزرگتر تا مقدار ویژه با کوچکترین اندازه درون آرایه <code>eig1</code> قرار دهید.\n",
    "</font>\n",
    "</p>"
   ]
  },
  {
   "cell_type": "code",
   "execution_count": 11,
   "metadata": {},
   "outputs": [
    {
     "data": {
      "text/plain": [
       "array([ 1.00000000e+00+0.00000000e+00j, -2.59696331e-01-2.15658885e-01j,\n",
       "       -2.59696331e-01+2.15658885e-01j,  2.19392663e-01+0.00000000e+00j,\n",
       "        9.55482811e-17-6.84501121e-09j,  9.55482811e-17+6.84501121e-09j])"
      ]
     },
     "execution_count": 11,
     "metadata": {},
     "output_type": "execute_result"
    }
   ],
   "source": [
    "#eig1 = np.abs(sorted(la.eigvals(T1), key=lambda x: np.abs(x), reverse=True))\n",
    "#eig1 = sorted(np.abs((la.eigvals(T1))), reverse=True)\n",
    "#eig1 = sorted(la.eigvals(T1), reverse=True)\n",
    "#eig1 = np.abs(la.eigvals(T1))\n",
    "#eig1 = np.sort(la.eigvals(T1))[::-1]\n",
    "#eig1\n",
    "#eig1 = np.abs(eig1)\n",
    "#eig1\n",
    "#eig1 = np.sort(eig1)[::-1]\n",
    "#eig1\n",
    "#np.abs(sorted((la.eigvals(T1)), reverse=True))\n",
    "#print(eig1)\n",
    "eigvals, eigvecs = np.linalg.eig(T1)\n",
    "idx = np.absolute(eigvals).argsort()\n",
    "idx = idx[::-1]\n",
    "eigvals = eigvals[idx]\n",
    "#eigvecs = eigvecs[:,idx]\n",
    "eig1 = eigvals\n",
    "eig1"
   ]
  },
  {
   "cell_type": "markdown",
   "metadata": {},
   "source": [
    "\n",
    "<p dir=rtl style=\"direction: rtl;text-align: justify;line-height:200%;font-family:vazir;font-size:medium\">\n",
    "<font face=\"vazir\" size=3>\n",
    "بوکر نیز همانند الیزابت در جزیره \n",
    "2K\n",
    "هر روز یک سفر انجام می‌دهد. اما یا این تفاوت که برخلاف الیزابت از مسیر‌های زیرزمینی جزیره استفاده می‌کند. در ادامه ماتریس سفر مسیر‌های زیرزمینی با توجه با نام <code>T2</code> \n",
    "آورده شده است. \n",
    "</font>\n",
    "</p>"
   ]
  },
  {
   "cell_type": "code",
   "execution_count": 12,
   "metadata": {},
   "outputs": [],
   "source": [
    "T2 = np.array([[0   ,  1/4  ,  1/3 ,  1/3 ,  0  ,   0],\n",
    "              [1/3  ,  1/4  ,   0  ,  1/3 ,  0  ,   0],\n",
    "              [1/3  ,  1/4  ,  1/3 ,   0  ,  0  ,   0],\n",
    "              [1/3  ,  1/4  ,  1/3 ,  1/3 ,  0  ,   0],\n",
    "              [0    ,   0   ,   0  ,   0  ,  1  ,   0],\n",
    "              [0    ,   0   ,   0  ,   0  ,  0  ,   1 ]])"
   ]
  },
  {
   "cell_type": "markdown",
   "metadata": {},
   "source": [
    "\n",
    "<p dir=rtl style=\"direction: rtl;text-align: justify;line-height:200%;font-family:vazir;font-size:medium\">\n",
    "<font face=\"vazir\" size=3>\n",
    "به ازای ۲ مقدار احتمال اولیه داده شده در هر سل، احتمال حضور بوکر در هر شهر در روز ۷ ام را محاسبه کنید و به ترتیب در متغیر‌های d و f  ذخیره نمایید.\n",
    "</font>\n",
    "</p>"
   ]
  },
  {
   "cell_type": "code",
   "execution_count": 13,
   "metadata": {},
   "outputs": [],
   "source": [
    "p = np.array([10,20,0,0,30,40])"
   ]
  },
  {
   "cell_type": "code",
   "execution_count": 14,
   "metadata": {},
   "outputs": [],
   "source": [
    "d = np.dot(la.matrix_power(T2, 7), p)"
   ]
  },
  {
   "cell_type": "code",
   "execution_count": 15,
   "metadata": {},
   "outputs": [],
   "source": [
    "p = np.array([50,10,10,10,10,10])"
   ]
  },
  {
   "cell_type": "code",
   "execution_count": 16,
   "metadata": {},
   "outputs": [],
   "source": [
    "e = np.dot(la.matrix_power(T2, 7), p)"
   ]
  },
  {
   "cell_type": "markdown",
   "metadata": {},
   "source": [
    "\n",
    "<p dir=rtl style=\"direction: rtl;text-align: justify;line-height:200%;font-family:vazir;font-size:medium\">\n",
    "<font face=\"vazir\" size=3>\n",
    "مقادیر ويژه ماتریس <code>T2</code> را محاسبه کرده و آن‌ها را به ترتیب از مقدار ویژه با اندازه بزرگتر تا مقدار ویژه با کوچکترین اندازه درون آرایه <code>eig2</code> قرار دهید.\n",
    "</font>\n",
    "</p>"
   ]
  },
  {
   "cell_type": "code",
   "execution_count": 17,
   "metadata": {},
   "outputs": [
    {
     "data": {
      "text/plain": [
       "array([ 1.        +0.j        ,  1.        +0.j        ,\n",
       "        1.        +0.j        , -0.28962562+0.j        ,\n",
       "        0.10314614-0.14605008j,  0.10314614+0.14605008j])"
      ]
     },
     "execution_count": 17,
     "metadata": {},
     "output_type": "execute_result"
    }
   ],
   "source": [
    "#eig2 = sorted((la.eigvals(T2)), reverse=True)\n",
    "#eig2 = np.abs(sorted(la.eigvals(T2), reverse=True))\n",
    "#print(eig2)\n",
    "eigvals, eigvecs = np.linalg.eig(T2)\n",
    "idx = np.absolute(eigvals).argsort()\n",
    "idx = idx[::-1]\n",
    "eigvals = eigvals[idx]\n",
    "#eigvecs = eigvecs[:,idx]\n",
    "eig2 = eigvals\n",
    "eig2"
   ]
  },
  {
   "cell_type": "markdown",
   "metadata": {},
   "source": [
    "<h2 align=right style=\"line-height:200%;font-family:vazir;color:#0099cc\">\n",
    "بخش دوم\n",
    "<font face=\"vazir\" color=\"#0099cc\">\n",
    "</font>\n",
    "</h2>\n",
    "\n",
    "<p dir=rtl style=\"direction: rtl;text-align: justify;line-height:200%;font-family:vazir;font-size:medium\">\n",
    "<font face=\"vazir\" size=3>اکنون با تحلیل نتایج بخش‌های قبل، تابعی بنویسید که یک ماتریس سفر را به عنوان ورودی دریافت کند و بردار ویژه متناظر مقدار ویژه برابر ۱ ماتریس را بدون استفاده از   ماژول <code>linalg</code> نامپای محاسبه کند. این تضمین وجود دارد که ورودی دقیقا یک مقدار ويژه برابر ۱ دارد و جمع درایه‌های بردار ویژه خروجی مخالف صفر است. بردار ویژه خروجی باید به نحوی باشد که جمع درایه‌های آن برابر ۱۰۰ گردد.</font>\n",
    "</p>"
   ]
  },
  {
   "cell_type": "code",
   "execution_count": 18,
   "metadata": {},
   "outputs": [
    {
     "name": "stdout",
     "output_type": "stream",
     "text": [
      "[ 7.84316685 28.75808943  7.84316685 41.83004303 10.45756023  3.26797362]\n",
      "[15.65226383 16.23182835 13.91302143 20.86955305 16.66666667 16.66666667]\n"
     ]
    }
   ],
   "source": [
    "def eigvector_1 (T):\n",
    "    import numpy as np\n",
    "    n = len(T)\n",
    "    v = np.ones(n) / n  # Start with a random vector\n",
    "    while True:\n",
    "        v_next = np.dot(T, v)\n",
    "        v_next /= np.sum(v_next) / 100  # Normalize to make the sum equal to 100\n",
    "        if np.allclose(v, v_next):\n",
    "            break\n",
    "        v = v_next\n",
    "    return v\n",
    "print(eigvector_1(T1))\n",
    "print(eigvector_1(T2))"
   ]
  },
  {
   "cell_type": "markdown",
   "metadata": {},
   "source": [
    "<p dir=rtl style=\"direction: rtl;text-align: justify;line-height:200%;font-family:vazir;font-size:medium\">\n",
    "<font face=\"vazir\" size=3>\n",
    "با استفاده از دستور جادویی <code>save</code> کد تابع خود را در قالب فایل <code dir=ltr>.py</code> ذخیره کنید تا بتوانیم در سلول جواب‌ساز، آن را در فایل <code>result.zip</code> قرار دهیم.\n",
    "</font>\n",
    "</p>\n"
   ]
  },
  {
   "cell_type": "code",
   "execution_count": 19,
   "metadata": {},
   "outputs": [
    {
     "name": "stdout",
     "output_type": "stream",
     "text": [
      "The following commands were written to file `eigvector_1.py`:\n",
      "def eigvector_1 (T):\n",
      "    import numpy as np\n",
      "    n = len(T)\n",
      "    v = np.ones(n) / n  # Start with a random vector\n",
      "    while True:\n",
      "        v_next = np.dot(T, v)\n",
      "        v_next /= np.sum(v_next) / 100  # Normalize to make the sum equal to 100\n",
      "        if np.allclose(v, v_next):\n",
      "            break\n",
      "        v = v_next\n",
      "    return v\n",
      "\n"
     ]
    }
   ],
   "source": [
    "from inspect import getsource\n",
    "%save eigvector_1 getsource(eigvector_1)"
   ]
  },
  {
   "attachments": {},
   "cell_type": "markdown",
   "metadata": {},
   "source": [
    "<h2 align=right style=\"line-height:200%;font-family:vazir;color:#0099cc\">\n",
    "<font face=\"vazir\" color=\"#0099cc\">\n",
    "<b>سلول جواب‌ساز</b>\n",
    "</font>\n",
    "</h2>\n",
    "\n",
    "\n",
    "<p dir=rtl style=\"direction: rtl; text-align: justify; line-height:200%; font-family:vazir; font-size:medium\">\n",
    "<font face=\"vazir\" size=3>\n",
    "    برای ساخته‌شدن فایل <code>result.zip</code> سلول زیر را اجرا کنید. توجه داشته باشید که پیش از اجرای سلول زیر تغییرات اعمال شده در نت‌بوک را ذخیره کرده باشید (<code>ctrl+s</code>) تا در صورت نیاز به پشتیبانی امکان بررسی کد شما وجود داشته باشد.\n",
    "</font>\n",
    "</p>"
   ]
  },
  {
   "cell_type": "code",
   "execution_count": 20,
   "metadata": {},
   "outputs": [
    {
     "name": "stdout",
     "output_type": "stream",
     "text": [
      "File Paths:\n",
      "['a', 'b', 'c', 'd', 'e', 'eig1', 'eig2', 'eigvector_1.py', 'frequent_traveler.ipynb']\n"
     ]
    }
   ],
   "source": [
    "import zlib\n",
    "import zipfile\n",
    "import joblib\n",
    "\n",
    "joblib.dump(a,\"a\")\n",
    "joblib.dump(b,\"b\")\n",
    "joblib.dump(c,\"c\")\n",
    "joblib.dump(d,\"d\")\n",
    "joblib.dump(e,\"e\")\n",
    "\n",
    "joblib.dump(eig1,\"eig1\")\n",
    "joblib.dump(eig2,\"eig2\")\n",
    "\n",
    "def compress(file_names):\n",
    "    print(\"File Paths:\")\n",
    "    print(file_names)\n",
    "    compression = zipfile.ZIP_DEFLATED\n",
    "    with zipfile.ZipFile(\"result.zip\", mode=\"w\") as zf:\n",
    "        for file_name in file_names:\n",
    "            zf.write('./' + file_name, file_name, compress_type=compression)\n",
    "\n",
    "file_names = ['a','b','c','d','e','eig1','eig2','eigvector_1.py' , 'frequent_traveler.ipynb']\n",
    "\n",
    "compress(file_names)"
   ]
  }
 ],
 "metadata": {
  "kernelspec": {
   "display_name": "Python 3",
   "language": "python",
   "name": "python3"
  },
  "language_info": {
   "codemirror_mode": {
    "name": "ipython",
    "version": 3
   },
   "file_extension": ".py",
   "mimetype": "text/x-python",
   "name": "python",
   "nbconvert_exporter": "python",
   "pygments_lexer": "ipython3",
   "version": "3.9.17"
  },
  "orig_nbformat": 4
 },
 "nbformat": 4,
 "nbformat_minor": 2
}
