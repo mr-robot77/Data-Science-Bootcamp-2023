{
 "cells": [
  {
   "cell_type": "markdown",
   "metadata": {},
   "source": [
    "<h1 align=center style=\"line-height:200%;font-family:vazir;color:#0099cc\">\n",
    "<font face=\"vazir\" color=\"#0099cc\">\n",
    "تاس خراب</font>\n",
    "</h1>"
   ]
  },
  {
   "attachments": {},
   "cell_type": "markdown",
   "metadata": {},
   "source": [
    "<p dir=rtl style=\"direction: rtl;text-align: justify;line-height:200%;font-family:vazir;font-size:medium\">\n",
    "<font face=\"vazir\" size=3>\n",
    "برای حل این تمرین، شما باید تابع \n",
    "<code>solve</code>\n",
    "را پیاده‌سازی کرده و در نهایت با اجرای سلول جواب‌ساز، کد خود را ذخیره کنید.\n",
    "<br>\n",
    "<span style=\"color:purple\"><b>توجه مهم:  </b></span>\n",
    "برای حل این تمرین، تنها از لایبرری‌هایی می‌توانید استفاده کنید که در تابع \n",
    "<code>import</code>\n",
    "شده‌اند. به هیچ وجه از لایبرری دیگری استفاده نکنید و ضمناً اسم لایبرری‌ها را نیز تغییر ندهید. در غیر این‌صورت، سیستم داوری نمی‌تواند کد شما را داوری کند.\n",
    "</font>\n",
    "</p>"
   ]
  },
  {
   "cell_type": "markdown",
   "metadata": {},
   "source": [
    "<h2 align=right style=\"line-height:200%;font-family:vazir;color:#0099cc\">\n",
    "<font face=\"vazir\" color=\"red\">\n",
    "سوال\n",
    "</font>\n",
    "</h2>"
   ]
  },
  {
   "attachments": {},
   "cell_type": "markdown",
   "metadata": {},
   "source": [
    "<p dir=rtl style=\"direction: rtl;text-align: justify;line-height:200%;font-family:vazir;font-size:medium\">\n",
    "<font face=\"vazir\" size=4.8>\n",
    "دو تاس داریم که احتمال آمدن هر یک از وجه های آن‌ها یکسان نیست تابع\n",
    "<code>solve</code>\n",
    "را به گونه‌ای پیاده‌سازی کنید که محاسبه کند؛ احتمال این‌که ضرب دو عدد رو شده از عدد ورودی بیشتر باشد چقدر است؟\n",
    "</font>\n",
    "</p>"
   ]
  },
  {
   "cell_type": "markdown",
   "metadata": {},
   "source": [
    "<h2 align=right style=\"line-height:200%;font-family:vazir;color:#0099cc\">\n",
    "<font face=\"vazir\" color=\"#0099cc\">\n",
    "ورودی\n",
    "</font>\n",
    "</h2>"
   ]
  },
  {
   "attachments": {},
   "cell_type": "markdown",
   "metadata": {},
   "source": [
    "<p dir=rtl style=\"direction: rtl;text-align: justify;line-height:200%;font-family:vazir;font-size:medium\">\n",
    "<font face=\"vazir\" size=3>\n",
    "ورودی تابع یک عدد خواهد بود و نشان می‌دهد که ضرب دو تاس از چه عددی بیشتر باشد.\n",
    "</font>\n",
    "</p>\n",
    "\n",
    "<p dir=rtl style=\"direction: rtl;text-align: justify;line-height:200%;font-family:vazir;font-size:medium\">\n",
    "<font face=\"vazir\" size=3>\n",
    "<span style=\"color:red\" fontsize=15><b>نکته‌ی مهم:  </b></span>\n",
    "احتمال آمدن هر وجه تاس یکسان نیست و به شکل زیر است:\n",
    "</font>\n",
    "</p>\n",
    "<div style=\"direction: rtl; text-align: justify; line-height: 200%; font-family: Vazir; font-size: medium;\">\n",
    "\n",
    "<ul>\n",
    "<li>\n",
    "احتمال آمدن وجه 1 برابر 1/24\n",
    "</li>\n",
    "<li>\n",
    "احتمال آمدن وجه 2 برابر 1/12\n",
    "</li>\n",
    "<li>\n",
    "احتمال آمدن وجه 3 برابر 1/6\n",
    "</li>\n",
    "<li>\n",
    "احتمال آمدن وجه 4 برابر 1/2\n",
    "</li>\n",
    "<li>\n",
    "احتمال آمدن وجه 5 برابر 1/8\n",
    "</li>\n",
    "<li>\n",
    "احتمال آمدن وجه 6 برابر 1/12\n",
    "</li>\n",
    "</ul>\n",
    "</div>\n"
   ]
  },
  {
   "cell_type": "markdown",
   "metadata": {},
   "source": [
    "<h2 align=right style=\"line-height:200%;font-family:vazir;color:#0099cc\">\n",
    "<font face=\"vazir\" color=\"#0099cc\">\n",
    "خروجی\n",
    "</font>\n",
    "</h2>"
   ]
  },
  {
   "attachments": {},
   "cell_type": "markdown",
   "metadata": {},
   "source": [
    "<p dir=rtl style=\"direction: rtl;text-align: justify;line-height:200%;font-family:vazir;font-size:medium\">\n",
    "<font face=\"vazir\" size=3>\n",
    "خروجی تابع این است که ضرب دو عدد رو شده در تاس‌ها با چه احتمالی از آن عدد ورودی بیشتر است.\n",
    " دقت کنید که تفاوت پاسخ شما با جواب واقعی باید کمتر از \n",
    "<code>1e-2</code>\n",
    "باشد.\n",
    "</font>\n",
    "</p>"
   ]
  },
  {
   "cell_type": "code",
   "execution_count": 1,
   "metadata": {},
   "outputs": [],
   "source": [
    "def solve(numb):\n",
    "    import random\n",
    "    import numpy as np\n",
    "    \n",
    "    dice_faces = [1, 2, 3, 4, 5, 6]\n",
    "    probabilities = [1/24, 1/12, 1/6, 1/2, 1/8, 1/12]\n",
    "    \n",
    "    trials = 100000\n",
    "    \n",
    "    count = 0\n",
    "    \n",
    "    for _ in range(trials):\n",
    "        dice1 = np.random.choice(dice_faces, p=probabilities)\n",
    "        dice2 = np.random.choice(dice_faces, p=probabilities)\n",
    "        \n",
    "        if dice1 * dice2 > numb:\n",
    "            count += 1\n",
    "    \n",
    "    prob = count / trials\n",
    "    return prob"
   ]
  },
  {
   "cell_type": "code",
   "execution_count": 2,
   "metadata": {},
   "outputs": [
    {
     "name": "stdout",
     "output_type": "stream",
     "text": [
      "1.0\n",
      "0.57048\n"
     ]
    }
   ],
   "source": [
    "# Here are some examples of how your outputs should look like\n",
    "# solve(0) = 1.0\n",
    "# solve(14) = 0.57\n",
    "print(solve(0))\n",
    "print(solve(14))"
   ]
  },
  {
   "attachments": {},
   "cell_type": "markdown",
   "metadata": {},
   "source": [
    "<h2 align=right style=\"line-height:200%;font-family:vazir;color:#0099cc\">\n",
    "<font face=\"vazir\" color=\"#0099cc\">\n",
    "<b>سلول جواب‌ساز</b>\n",
    "</font>\n",
    "</h2>\n",
    "\n",
    "\n",
    "<p dir=rtl style=\"direction: rtl; text-align: justify; line-height:200%; font-family:vazir; font-size:medium\">\n",
    "<font face=\"vazir\" size=3>\n",
    "    برای ساخته‌شدن فایل <code>result.zip</code> سلول زیر را اجرا کنید. توجه داشته باشید که پیش از اجرای سلول زیر تغییرات اعمال شده در نت‌بوک را ذخیره کرده باشید (<code>ctrl+s</code>).\n",
    "</font>\n",
    "</p>\n",
    "\n"
   ]
  },
  {
   "cell_type": "code",
   "execution_count": 3,
   "metadata": {},
   "outputs": [
    {
     "name": "stdout",
     "output_type": "stream",
     "text": [
      "The following commands were written to file `solve.py`:\n",
      "def solve(numb):\n",
      "    import random\n",
      "    import numpy as np\n",
      "    \n",
      "    dice_faces = [1, 2, 3, 4, 5, 6]\n",
      "    probabilities = [1/24, 1/12, 1/6, 1/2, 1/8, 1/12]\n",
      "    \n",
      "    trials = 100000\n",
      "    \n",
      "    count = 0\n",
      "    \n",
      "    for _ in range(trials):\n",
      "        dice1 = np.random.choice(dice_faces, p=probabilities)\n",
      "        dice2 = np.random.choice(dice_faces, p=probabilities)\n",
      "        \n",
      "        if dice1 * dice2 > numb:\n",
      "            count += 1\n",
      "    \n",
      "    prob = count / trials\n",
      "    return prob\n",
      "\n",
      "File Paths:\n",
      "['solve.py', 'Dice.ipynb']\n"
     ]
    }
   ],
   "source": [
    "import zipfile \n",
    "from inspect import getsource\n",
    "\n",
    "%save solve getsource(solve)\n",
    "\n",
    "def compress(file_names):\n",
    "    print(\"File Paths:\")\n",
    "    print(file_names)\n",
    "    compression = zipfile.ZIP_DEFLATED\n",
    "    with zipfile.ZipFile(\"result.zip\", mode=\"w\") as zf:\n",
    "        for file_name in file_names:\n",
    "            zf.write('./' + file_name, file_name, compress_type=compression)\n",
    "\n",
    "file_names = [\"solve.py\", \"Dice.ipynb\"]\n",
    "compress(file_names)"
   ]
  }
 ],
 "metadata": {
  "kernelspec": {
   "display_name": "Python 3",
   "language": "python",
   "name": "python3"
  },
  "language_info": {
   "codemirror_mode": {
    "name": "ipython",
    "version": 3
   },
   "file_extension": ".py",
   "mimetype": "text/x-python",
   "name": "python",
   "nbconvert_exporter": "python",
   "pygments_lexer": "ipython3",
   "version": "3.9.17"
  },
  "orig_nbformat": 4
 },
 "nbformat": 4,
 "nbformat_minor": 2
}
