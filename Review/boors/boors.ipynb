{
 "cells": [
  {
   "attachments": {},
   "cell_type": "markdown",
   "metadata": {},
   "source": [
    "<h1 align=center style=\"line-height:200%;font-family:vazir;color:#0099cc\">\n",
    "<font face=\"vazir\" color=\"#0099cc\">\n",
    "بورس ایران\n",
    "\n",
    "</font>\n",
    "</h1>\n"
   ]
  },
  {
   "attachments": {},
   "cell_type": "markdown",
   "metadata": {},
   "source": [
    "<p dir=rtl style=\"direction: rtl;text-align: right;line-height:200%;font-family:vazir;font-size:medium\">\n",
    "<font face=\"vazir\" size=3>\n",
    "در این سوال قرار است با داده های واقعی بورس ایران به چند مسئله پاسخ دهید.\n",
    "</font>\n",
    "</p>\n"
   ]
  },
  {
   "attachments": {},
   "cell_type": "markdown",
   "metadata": {},
   "source": [
    "<h2 align=right style=\"line-height:200%;font-family:vazir;color:#0099cc\">\n",
    "<font face=\"vazir\" color=\"#0099cc\">\n",
    "قسمت اول:\n",
    "محاسبه‌ی حداکثر افت سرمایه در بازه سه سال\n",
    "</font>\n",
    "</h2>\n",
    "\n",
    "<p dir=rtl style=\"direction: rtl;text-align: justify;line-height:200%;font-family:vazir;font-size:medium\">\n",
    "<font face=\"vazir\" size=3>\n",
    "طبق گفته‌ی سایت <i>investopedia</i> تعریف  <a href=\"https://www.investopedia.com/terms/m/maximum-drawdown-mdd.asp\">Maximum DarwDown</a> به شرح زیر است : \n",
    "<br>\n",
    "<i>Maximum DrawDown (MDD)</i> یا همان حداکثر افت سرمایه مقدار حداکثر افت سرمایه از یک قله تا \n",
    "<b>\n",
    "کف بعد از آن\n",
    "</b>\n",
    " قله است قبل از این که قله جدیدی تشکیل شود.\n",
    "<br>\n",
    "حداکثر افت سرمایه نشانگر ریسک نزولی در یک بازه‌ی زمانی مشخص است.\n",
    "</font>\n",
    "</p>\n",
    "\n"
   ]
  },
  {
   "attachments": {},
   "cell_type": "markdown",
   "metadata": {},
   "source": [
    "$$ MDD = \\frac{Trough Value - Peak Value}{Peak Value} $$"
   ]
  },
  {
   "attachments": {},
   "cell_type": "markdown",
   "metadata": {},
   "source": [
    "<p dir=rtl style=\"direction: rtl;text-align: justify;line-height:200%;font-family:vazir;font-size:medium\">\n",
    "<font face=\"vazir\" size=3>\n",
    "در این قسمت شما داده های سهام فولاد در بورس ایران را دریافت می‌کنید و باید میزان حداکثر افت سرمایه را از تاریخ 01-01-2020 تا تاریخ 01-01-2023 را به‌دست بیاورید و تا دو رقم اعشار رند کنید و در  <code>MDD</code> قرار دهید.\n",
    "<br>\n",
    "خروجی شما باید عددی اعشاری بین صفر و یک با علامت منفی باشد و نوع داده شما باید <code>float</code> باشد.\n",
    "<br>\n",
    "برای محاسبه‌ی <code>MDD</code> از ستون <code>adjClose</code> استفاده کنید.\n",
    "</font>\n",
    "</p>"
   ]
  },
  {
   "cell_type": "code",
   "execution_count": 1,
   "metadata": {},
   "outputs": [],
   "source": [
    "import pandas as pd\n",
    "import numpy as np"
   ]
  },
  {
   "cell_type": "code",
   "execution_count": 2,
   "metadata": {},
   "outputs": [],
   "source": [
    "# read the data\n",
    "# read فولاد.csv for this part\n",
    "foolad_df = pd.read_csv('فولاد.csv')"
   ]
  },
  {
   "cell_type": "code",
   "execution_count": 3,
   "metadata": {},
   "outputs": [
    {
     "name": "stdout",
     "output_type": "stream",
     "text": [
      "-0.82\n",
      "<class 'float'>\n"
     ]
    }
   ],
   "source": [
    "# filter the data based on the given date range\n",
    "foolad_df = foolad_df[(foolad_df[\"date\"] >= \"2020-01-01\") & (foolad_df[\"date\"] <= \"2023-01-01\")]\n",
    "\n",
    "# calculate the MDD\n",
    "adj_close = foolad_df[\"adjClose\"].values\n",
    "running_max  = np.maximum.accumulate(adj_close)\n",
    "drawdown = (adj_close - running_max) / running_max\n",
    "MDD = round(float(drawdown.min()),2)\n",
    "\n",
    "print(MDD)\n",
    "print(type(MDD))"
   ]
  },
  {
   "attachments": {},
   "cell_type": "markdown",
   "metadata": {},
   "source": [
    "<h2 align=right style=\"line-height:200%;font-family:vazir;color:#0099cc\">\n",
    "<font face=\"vazir\" color=\"#0099cc\">\n",
    "قسمت دوم:\n",
    "کندل های حجمی\n",
    "</font>\n",
    "</h2>\n",
    "<p dir=rtl style=\"direction: rtl;text-align: justify;line-height:200%;font-family:vazir;font-size:medium\">\n",
    "<font face=\"vazir\" size=3>\n",
    "  کندل های حجمی یا <a href=\"https://towardsdatascience.com/advanced-candlesticks-for-machine-learning-ii-volume-and-dollar-bars-6cda27e3201d\">volume bars</a> \n",
    "آن دسته از کندل‌هایی هستن که بر اساس حجم هستند.\n",
    "<br>\n",
    "در کندل‌های زمانی در یک بازه‌ی زمانی مشخص ریز معاملات را بررسی می‌کنند و قیمت شروع‌کننده رو به‌عنوان Open Price در نظر می‌گیرند و قیمت آخر را به‌عنوان Close Price در نظر می‌گیرن و بالاترین و پایین ترین قیمت را به ترتیب به عنوان High و Low در نظر می‌گیرند و همچنین مجموع حجم آن روز را به‌عنوان volume در نظر گرفته می‌شود.\n",
    "<br>\n",
    "نمونه‌های کندل‌های زمانی را در قسمت قبل دیدید که در یک بازه‌ی یک روزه ریز معاملات را بررسی کرده‌اند.\n",
    "<br>\n",
    "در کندل های حجمی نیز شما به همین سبک عمل کرده ولی زمان برای شما مهم نمی‌باشد بلکه به ازای یک مقدار مشخص حجم که در این سوال برای شما 400000 در نظر گرفته شده است کندل های حجمی را تشکیل می‌دهیم.\n",
    "<br>\n",
    "در این سوال به شما ریز معاملات یک روز معاملاتی سهام فولاد داده شده است شما باید هر موقع مجموع حجم ریزمعاملات به عدد 400000 رسید یک کندل (یک ردیف در دیتا فریم) تشکیل دهید و تمام پارامتر ها را (Open Price, Close Price,...) باید در نظر بگیرید.\n",
    "<br>\n",
    "5 خط اول خروجی شما باید به شکل زیر باشد.\n",
    "<br>\n",
    "خروجی خود را در <code>volume_bars</code> ذخیر کنید.\n",
    "<br>\n",
    "راهنمایی : برای این سوال باید از iteration استفاده کنید.\n",
    "</font>\n",
    "</p>\n",
    "\n",
    "<center>\n",
    "\n",
    "|    |   open |   high |   low |   close |   volume |\n",
    "|---:|-------:|-------:|------:|--------:|---------:|\n",
    "|  0 |   6260 |   6260 |  6260 |    6260 |   419476 |\n",
    "|  1 |   6260 |   6260 |  6240 |    6240 |   403936 |\n",
    "|  2 |   6240 |   6240 |  6220 |    6220 |   409206 |\n",
    "|  3 |   6220 |   6240 |  6220 |    6220 |   401274 |\n",
    "|  4 |   6220 |   6230 |  6210 |    6230 |   412543 |\n",
    "\n",
    "</center>\n"
   ]
  },
  {
   "cell_type": "code",
   "execution_count": 4,
   "metadata": {},
   "outputs": [],
   "source": [
    "# read ریزمعاملات_فولاد.csv for this part\n",
    "foolad_detailed_df = pd.read_csv('ریزمعاملات_فولاد.csv')"
   ]
  },
  {
   "cell_type": "code",
   "execution_count": 5,
   "metadata": {},
   "outputs": [
    {
     "name": "stdout",
     "output_type": "stream",
     "text": [
      "     open    high     low   close  volume\n",
      "0  6260.0  6260.0  6260.0  6260.0  419476\n",
      "1  6260.0  6260.0  6240.0  6240.0  403936\n",
      "2  6240.0  6240.0  6220.0  6220.0  409206\n",
      "3  6220.0  6240.0  6220.0  6220.0  401274\n",
      "4  6220.0  6230.0  6210.0  6230.0  412543\n"
     ]
    }
   ],
   "source": [
    "# Convert the \"date\" column to datetime\n",
    "foolad_detailed_df['date'] = pd.to_datetime(foolad_detailed_df['date'])\n",
    "\n",
    "# calculate volume bars dataframe\n",
    "volume_bars = []\n",
    "current_volume = 0\n",
    "open_price = foolad_detailed_df.iloc[0][\"price\"]\n",
    "high_price = open_price\n",
    "low_price = open_price\n",
    "total_volume = 0\n",
    "\n",
    "for index, row in foolad_detailed_df.iterrows():\n",
    "    current_volume += row[\"volume\"]\n",
    "    high_price = max(high_price, row[\"price\"])\n",
    "    low_price = min(low_price, row[\"price\"])\n",
    "    total_volume += row[\"volume\"]\n",
    "\n",
    "    if current_volume >= 400000:\n",
    "        close_price = row[\"price\"]\n",
    "        volume_bars.append([open_price, high_price, low_price, close_price, total_volume])\n",
    "        current_volume = 0\n",
    "        open_price = row[\"price\"]\n",
    "        high_price = 0\n",
    "        low_price = open_price\n",
    "        total_volume = 0\n",
    "\n",
    "volume_bars = pd.DataFrame(volume_bars, columns=[\"open\", \"high\", \"low\", \"close\", \"volume\"])\n",
    "\n",
    "# Resetting the index of the volume bars dataframe\n",
    "volume_bars.reset_index(drop=True, inplace=True)\n",
    "\n",
    "print(volume_bars.head())"
   ]
  },
  {
   "attachments": {},
   "cell_type": "markdown",
   "metadata": {},
   "source": [
    "<h2 align=right style=\"line-height:200%;font-family:vazir;color:#0099cc\">\n",
    "<font face=\"vazir\" color=\"#0099cc\">\n",
    "<b>سلول جواب‌ساز</b>\n",
    "</font>\n",
    "</h2>\n",
    "\n",
    "\n",
    "<p dir=rtl style=\"direction: rtl; text-align: justify; line-height:200%; font-family:vazir; font-size:medium\">\n",
    "<font face=\"vazir\" size=3>\n",
    "    برای ساخته‌شدن فایل <code>result.zip</code> سلول زیر را اجرا کنید. توجه داشته باشید که پیش از اجرای سلول زیر تغییرات اعمال شده در نت‌بوک را ذخیره کرده باشید (<code>ctrl+s</code>).\n",
    "</font>\n",
    "</p>"
   ]
  },
  {
   "cell_type": "code",
   "execution_count": 6,
   "metadata": {},
   "outputs": [
    {
     "name": "stdout",
     "output_type": "stream",
     "text": [
      "File Paths:\n",
      "['MDD', 'volume_bars.csv', 'boors.ipynb']\n"
     ]
    }
   ],
   "source": [
    "import zipfile\n",
    "import joblib\n",
    "\n",
    "joblib.dump(MDD,\"MDD\")\n",
    "volume_bars.to_csv('./volume_bars.csv', index=False)\n",
    "\n",
    "def compress(file_names):\n",
    "    print(\"File Paths:\")\n",
    "    print(file_names)\n",
    "    compression = zipfile.ZIP_DEFLATED\n",
    "    with zipfile.ZipFile(\"result.zip\", mode=\"w\") as zf:\n",
    "        for file_name in file_names:\n",
    "            zf.write('./' + file_name, file_name, compress_type=compression)\n",
    "\n",
    "file_names = [\"MDD\" , \"volume_bars.csv\" , \"boors.ipynb\"]\n",
    "compress(file_names)"
   ]
  }
 ],
 "metadata": {
  "kernelspec": {
   "display_name": "Python 3",
   "language": "python",
   "name": "python3"
  },
  "language_info": {
   "codemirror_mode": {
    "name": "ipython",
    "version": 3
   },
   "file_extension": ".py",
   "mimetype": "text/x-python",
   "name": "python",
   "nbconvert_exporter": "python",
   "pygments_lexer": "ipython3",
   "version": "3.9.17"
  },
  "orig_nbformat": 4,
  "vscode": {
   "interpreter": {
    "hash": "44e7e1b8fa2096bd5707ed7fd18b1724a2db25f4c565a7673f8b6e7bfc49d25d"
   }
  }
 },
 "nbformat": 4,
 "nbformat_minor": 2
}
