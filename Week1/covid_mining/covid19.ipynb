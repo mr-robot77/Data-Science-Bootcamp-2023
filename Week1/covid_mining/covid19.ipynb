{
 "cells": [
  {
   "cell_type": "markdown",
   "metadata": {},
   "source": [
    "<h1 align=center style=\"line-height:200%;font-family:vazir;color:#0099cc\">\n",
    "<font face=\"vazir\" color=\"#0099cc\">\n",
    "    کوویدکاوی\n",
    "</font>\n",
    "</h1>"
   ]
  },
  {
   "attachments": {},
   "cell_type": "markdown",
   "metadata": {},
   "source": [
    "<p dir=rtl style=\"direction: rtl; text-align: justify; line-height:200%; font-family:vazir; font-size:medium\">\n",
    "<font face=\"vazir\" size=3>\n",
    "در این تمرین می‌خواهیم داده‌های مربوط به وضعیت کووید-۱۹ در کشورهای مختلف جهان در یک روز از سال ۲۰۲۰ را کمی تحلیل کنیم و با پاسخ دادن به پرسش‌هایی از آن با کتابخانه‌ی <code>pandas</code> بیشتر کار کنیم.\n",
    "</font>\n",
    "</p>"
   ]
  },
  {
   "attachments": {},
   "cell_type": "markdown",
   "metadata": {},
   "source": [
    "<h2 align=right style=\"line-height:200%;font-family:vazir;color:#0099cc\">\n",
    "<font face=\"vazir\" color=\"#0099cc\">\n",
    "مجموعه‌داده‌\n",
    "</font>\n",
    "</h2>\n",
    "\n",
    "\n",
    "<p dir=rtl style=\"direction: rtl; text-align: justify; line-height:200%; font-family:vazir; font-size:medium\">\n",
    "<font face=\"vazir\" size=3>\n",
    "ابتدا داده‌ها را از فایل <code>covid19-11-10-2020.csv</code> بخوانید و در متغیر <code>covid_data</code> ذخیره کنید.\n",
    "</font>\n",
    "</p>"
   ]
  },
  {
   "cell_type": "code",
   "execution_count": 1,
   "metadata": {},
   "outputs": [],
   "source": [
    "import pandas as pd"
   ]
  },
  {
   "cell_type": "code",
   "execution_count": 2,
   "metadata": {},
   "outputs": [
    {
     "data": {
      "text/html": [
       "<div>\n",
       "<style scoped>\n",
       "    .dataframe tbody tr th:only-of-type {\n",
       "        vertical-align: middle;\n",
       "    }\n",
       "\n",
       "    .dataframe tbody tr th {\n",
       "        vertical-align: top;\n",
       "    }\n",
       "\n",
       "    .dataframe thead th {\n",
       "        text-align: right;\n",
       "    }\n",
       "</style>\n",
       "<table border=\"1\" class=\"dataframe\">\n",
       "  <thead>\n",
       "    <tr style=\"text-align: right;\">\n",
       "      <th></th>\n",
       "      <th>Unnamed: 0</th>\n",
       "      <th>FIPS</th>\n",
       "      <th>Admin2</th>\n",
       "      <th>Province_State</th>\n",
       "      <th>Country_Region</th>\n",
       "      <th>Last_Update</th>\n",
       "      <th>Lat</th>\n",
       "      <th>Long_</th>\n",
       "      <th>Confirmed</th>\n",
       "      <th>Deaths</th>\n",
       "      <th>Recovered</th>\n",
       "      <th>Active</th>\n",
       "      <th>Combined_Key</th>\n",
       "      <th>Incident_Rate</th>\n",
       "      <th>Case_Fatality_Ratio</th>\n",
       "    </tr>\n",
       "  </thead>\n",
       "  <tbody>\n",
       "    <tr>\n",
       "      <th>0</th>\n",
       "      <td>0</td>\n",
       "      <td>NaN</td>\n",
       "      <td>NaN</td>\n",
       "      <td>NaN</td>\n",
       "      <td>Afghanistan</td>\n",
       "      <td>2020-11-11 05:25:30</td>\n",
       "      <td>33.93911</td>\n",
       "      <td>67.709953</td>\n",
       "      <td>42297</td>\n",
       "      <td>1574</td>\n",
       "      <td>34954.0</td>\n",
       "      <td>5769.0</td>\n",
       "      <td>Afghanistan</td>\n",
       "      <td>108.653487</td>\n",
       "      <td>3.721304</td>\n",
       "    </tr>\n",
       "    <tr>\n",
       "      <th>1</th>\n",
       "      <td>1</td>\n",
       "      <td>NaN</td>\n",
       "      <td>NaN</td>\n",
       "      <td>NaN</td>\n",
       "      <td>Albania</td>\n",
       "      <td>2020-11-11 05:25:30</td>\n",
       "      <td>41.15330</td>\n",
       "      <td>20.168300</td>\n",
       "      <td>25294</td>\n",
       "      <td>579</td>\n",
       "      <td>12353.0</td>\n",
       "      <td>12362.0</td>\n",
       "      <td>Albania</td>\n",
       "      <td>878.935298</td>\n",
       "      <td>2.289080</td>\n",
       "    </tr>\n",
       "    <tr>\n",
       "      <th>2</th>\n",
       "      <td>2</td>\n",
       "      <td>NaN</td>\n",
       "      <td>NaN</td>\n",
       "      <td>NaN</td>\n",
       "      <td>Algeria</td>\n",
       "      <td>2020-11-11 05:25:30</td>\n",
       "      <td>28.03390</td>\n",
       "      <td>1.659600</td>\n",
       "      <td>63446</td>\n",
       "      <td>2077</td>\n",
       "      <td>42626.0</td>\n",
       "      <td>18743.0</td>\n",
       "      <td>Algeria</td>\n",
       "      <td>144.685270</td>\n",
       "      <td>3.273650</td>\n",
       "    </tr>\n",
       "    <tr>\n",
       "      <th>3</th>\n",
       "      <td>3</td>\n",
       "      <td>NaN</td>\n",
       "      <td>NaN</td>\n",
       "      <td>NaN</td>\n",
       "      <td>Andorra</td>\n",
       "      <td>2020-11-11 05:25:30</td>\n",
       "      <td>42.50630</td>\n",
       "      <td>1.521800</td>\n",
       "      <td>5477</td>\n",
       "      <td>75</td>\n",
       "      <td>4405.0</td>\n",
       "      <td>997.0</td>\n",
       "      <td>Andorra</td>\n",
       "      <td>7088.591212</td>\n",
       "      <td>1.369363</td>\n",
       "    </tr>\n",
       "    <tr>\n",
       "      <th>4</th>\n",
       "      <td>4</td>\n",
       "      <td>NaN</td>\n",
       "      <td>NaN</td>\n",
       "      <td>NaN</td>\n",
       "      <td>Angola</td>\n",
       "      <td>2020-11-11 05:25:30</td>\n",
       "      <td>-11.20270</td>\n",
       "      <td>17.873900</td>\n",
       "      <td>12816</td>\n",
       "      <td>308</td>\n",
       "      <td>6036.0</td>\n",
       "      <td>6472.0</td>\n",
       "      <td>Angola</td>\n",
       "      <td>38.994388</td>\n",
       "      <td>2.403246</td>\n",
       "    </tr>\n",
       "  </tbody>\n",
       "</table>\n",
       "</div>"
      ],
      "text/plain": [
       "   Unnamed: 0  FIPS Admin2 Province_State Country_Region          Last_Update  \\\n",
       "0           0   NaN    NaN            NaN    Afghanistan  2020-11-11 05:25:30   \n",
       "1           1   NaN    NaN            NaN        Albania  2020-11-11 05:25:30   \n",
       "2           2   NaN    NaN            NaN        Algeria  2020-11-11 05:25:30   \n",
       "3           3   NaN    NaN            NaN        Andorra  2020-11-11 05:25:30   \n",
       "4           4   NaN    NaN            NaN         Angola  2020-11-11 05:25:30   \n",
       "\n",
       "        Lat      Long_  Confirmed  Deaths  Recovered   Active Combined_Key  \\\n",
       "0  33.93911  67.709953      42297    1574    34954.0   5769.0  Afghanistan   \n",
       "1  41.15330  20.168300      25294     579    12353.0  12362.0      Albania   \n",
       "2  28.03390   1.659600      63446    2077    42626.0  18743.0      Algeria   \n",
       "3  42.50630   1.521800       5477      75     4405.0    997.0      Andorra   \n",
       "4 -11.20270  17.873900      12816     308     6036.0   6472.0       Angola   \n",
       "\n",
       "   Incident_Rate  Case_Fatality_Ratio  \n",
       "0     108.653487             3.721304  \n",
       "1     878.935298             2.289080  \n",
       "2     144.685270             3.273650  \n",
       "3    7088.591212             1.369363  \n",
       "4      38.994388             2.403246  "
      ]
     },
     "execution_count": 2,
     "metadata": {},
     "output_type": "execute_result"
    }
   ],
   "source": [
    "covid_data = pd.read_csv('covid19-11-10-2020.csv')\n",
    "covid_data.head()"
   ]
  },
  {
   "attachments": {},
   "cell_type": "markdown",
   "metadata": {},
   "source": [
    "<p dir=rtl style=\"direction: rtl; text-align: justify; line-height:200%; font-family:vazir; font-size:medium\">\n",
    "    <font face=\"vazir\" size=3>\n",
    "        همان‌طور که احتمالاً دیده‌اید، این مجموعه‌داده دارای ۱۴ ویژگی/ستون است که به معرفی برخی از آن‌ها که مهم‌ترند می‌پردازیم. البته که شما باید تشخیص بدهید که در هر سوال کدام موارد به کار می‌آیند.\n",
    "        <br>\n",
    "       - ستون  <code>Country_Region</code>: مشخص است که نام کشور یا منطقه را مشخص می‌کند. دقت کنید که شاید لازم باشد بررسی کنید که آیا تعداد سطرها با تعداد کشورها برابر است و به بیان دیگر به ازای هر منطقه یا کشور فقط یک سطر دیتا وجود دارد یا خیر.\n",
    "        <br>\n",
    "        - ستون‌های <code>Long</code> و <code>Lat</code>: طول و عرض جفرافیایی کشور/منطقه را بیان می‌کند.\n",
    "        <br>\n",
    "        - ستون <code>Confirmed</code>: تعداد موارد تاییدشده‌ی ابتلا به ویروس\n",
    "        <br>\n",
    "        - ستون <code>Deaths</code>: تعداد موارد فوت‌شده\n",
    "        <br>\n",
    "        - ستون <code>Recovered</code>: تعداد موارد بهبودیافته\n",
    "        <br>\n",
    "        - ستون <code>Active</code>: تعداد موارد فعال (که از تفاضل مجموع فوتی‌ها و بهبودیافتگان از موارد تایید شده نیز به‌دست می‌آید.)\n",
    "        <br>\n",
    "        - ستون <code>Incident_Rate</code>: بیانگر تعداد موارد در هر ۱۰۰۰۰۰ نفر است.\n",
    "</p>\n",
    "\n",
    "<p dir=rtl style=\"direction: rtl;text-align: justify;line-height:200%;font-family:vazir;font-size:medium\">\n",
    "<b style=\"color:red\">نکته‌:</b>\n",
    "در هر سوال که از شما خواسته‌شده پاسخ را در قالب فایلی با فرمت <code>csv</code> ذخیره کنید، لازم نیست نام ستون‌ها را ذخیره کنید (به بیان دیگر لازم نیست  <code>header</code> داشته باشند).\n",
    "</font>\n",
    "</p>"
   ]
  },
  {
   "attachments": {},
   "cell_type": "markdown",
   "metadata": {},
   "source": [
    "<h2 align=right style=\"line-height:200%;font-family:vazir;color:#0099cc\">\n",
    "<font face=\"vazir\" color=\"#0099cc\">\n",
    "قسمت اول‌\n",
    "</font>\n",
    "</h2>\n",
    "\n",
    "<p dir=rtl style=\"direction: rtl; text-align: justify; line-height:200%; font-family:vazir; font-size:medium\">\n",
    "<font face=\"vazir\" size=3>\n",
    "     در ابتدا می‌خواهیم ببینیم ۱۰ کشور با بیشترین تعداد موارد  کدام‌اند. برای این کار می‌توانیم از\n",
    "ستون  <code>Incident_Rate</code> استفاده کنیم. البته برای این‌که به‌نوعی مجموع تقریبی موارد را از این ستون محاسبه کنیم می‌توانیم از متد <code>apply</code>  استفاده کنیم و ستونی جدید به نام <code>Total_Cases</code> اضافه کنیم که از حاصل ضرب ۱۰۰۰۰۰ در مقادیر ستون <code>Incident_Rate</code> توسط تابع <code>apply</code> به‌دست می‌آیند.\n",
    "<br>\n",
    "پاسخ شما باید دارای ۱۰ ردیف و ۲ ستون باشد که نام کشور/منطقه و <code>Total_Cases</code> را شامل می‌شود و آن را در فایلی به نام <code>top10cases.csv</code> ذخیره کنید. \n",
    "</font>\n",
    "</p>"
   ]
  },
  {
   "cell_type": "code",
   "execution_count": 3,
   "metadata": {},
   "outputs": [],
   "source": [
    "# Calculate total cases by multiplying Incident_Rate column with 100000 using apply method\n",
    "covid_data['Total_Cases'] = covid_data['Incident_Rate'].apply(lambda x: x * 100000)\n",
    "\n",
    "# Group the data by Country_Region and sum the Total_Cases for each country\n",
    "top10_cases = covid_data.groupby('Country_Region')['Total_Cases'].sum().reset_index()\n",
    "\n",
    "# Sort the data in descending order based on Total_Cases and select top 10 countries\n",
    "top10_cases = top10_cases.sort_values('Total_Cases', ascending=False).head(10)\n",
    "\n",
    "# Save the result to a csv file without column names\n",
    "top10_cases.to_csv('top10cases.csv',header=False , index=True)"
   ]
  },
  {
   "attachments": {},
   "cell_type": "markdown",
   "metadata": {},
   "source": [
    "<h2 align=right style=\"line-height:200%;font-family:vazir;color:#0099cc\">\n",
    "<font face=\"vazir\" color=\"#0099cc\">\n",
    "قسمت دوم\n",
    "</font>\n",
    "</h2>\n",
    "\n",
    "<p dir=rtl style=\"direction: rtl; text-align: justify; line-height:200%; font-family:vazir; font-size:medium\">\n",
    "<font face=\"vazir\" size=3>\n",
    "در ادامه می‌خواهیم ببینیم چه کشورهایی هیچ مورد بهبودیافته‌ای در این روز گزارش نکرده‌اند.\n",
    "ابتدا ردیف‌هایی که مقدار هر سه ستون <code>Confirmed</code>، <code>Deaths</code> و <code>Recovered</code> آن‌ها صفر است را از دیتافریم اصلی حذف کنید. سپس تنها مواردی که هیچ مورد بهبودیافته‌ای نداشته‌اند را نگه داشته و\n",
    "پاسخ را، به ترتیب نزولی موارد تایید شده‌ی ابتلا، در فایلی به نام <code>norecovered.csv</code> ذخیره کنید.\n",
    "<br>\n",
    "توجه داشته باشید که فایل شما باید شامل ۴ ستون باشد که به ترتیب نام کشور/منطقه، تعداد موارد تایید شده، موارد فوتی و موارد بهبود یافته باشد.\n",
    "</font>\n",
    "</p>"
   ]
  },
  {
   "cell_type": "code",
   "execution_count": 6,
   "metadata": {},
   "outputs": [
    {
     "name": "stderr",
     "output_type": "stream",
     "text": [
      "C:\\Users\\Saleh\\AppData\\Local\\Temp\\ipykernel_964\\520268600.py:1: FutureWarning: The default value of numeric_only in DataFrameGroupBy.sum is deprecated. In a future version, numeric_only will default to False. Either specify numeric_only or select only columns which should be valid for the function.\n",
      "  no_recovered = covid_data.drop_duplicates(\"Country_Region\").groupby('Country_Region').sum().reset_index()\n"
     ]
    }
   ],
   "source": [
    "no_recovered = covid_data.drop_duplicates(\"Country_Region\").groupby('Country_Region').sum().reset_index()\n",
    "\n",
    "no_recovered = no_recovered[~((no_recovered['Confirmed']==0) & (no_recovered['Deaths']==0) & (no_recovered['Recovered']==0))]\n",
    "no_recovered = no_recovered[no_recovered['Recovered']== 0]\n",
    "#no_recovered = no_recovered[no_recovered['Confirmed']!= 0]\n",
    "no_recovered = no_recovered[no_recovered['Deaths']!= 0]\n",
    "# Sort by decreasing order of confirmed cases\n",
    "no_recovered = no_recovered[['Country_Region','Confirmed','Deaths','Recovered']].sort_values(by='Confirmed', ascending=False)\n",
    "# Save the result to a csv file without column names\n",
    "no_recovered.to_csv(\"norecovered.csv\",header=False ,index=True)"
   ]
  },
  {
   "attachments": {},
   "cell_type": "markdown",
   "metadata": {},
   "source": [
    "<h2 align=right style=\"line-height:200%;font-family:vazir;color:#0099cc\">\n",
    "<font face=\"vazir\" color=\"#0099cc\">\n",
    "قسمت سوم\n",
    "</font>\n",
    "</h2>\n",
    "\n",
    "<p dir=rtl style=\"direction: rtl; text-align: justify; line-height:200%; font-family:vazir; font-size:medium\">\n",
    "<font face=\"vazir\" size=3>\n",
    "اکنون می‌خواهیم اوضاع سایر کشورها را با کشور خودمان مقایسه‌ای کنیم! از این روی می‌خواهیم ببینیم کدام کشورها با وجود این‌که مبتلایان بیشتری از ما داشته‌اند، مرگ و میر کمتری ثبت کرده‌اند.\n",
    "<br>\n",
    "پاسخ را در فایلی به نام <code> vsiran.csv </code> ذخیره کنید. فایل پاسخ باید حاوی ۴ ستون باشد که نام کشور/منطقه، موارد تایید شده، موارد فوت‌شده و موارد بهبودیافته را به‌صورت نزولی بر اساس تعداد موارد تایید شده در بر داشته باشد.\n",
    "</font>\n",
    "</p>"
   ]
  },
  {
   "cell_type": "code",
   "execution_count": 7,
   "metadata": {},
   "outputs": [
    {
     "name": "stderr",
     "output_type": "stream",
     "text": [
      "C:\\Users\\Saleh\\AppData\\Local\\Temp\\ipykernel_964\\2536396242.py:1: FutureWarning: The default value of numeric_only in DataFrameGroupBy.sum is deprecated. In a future version, numeric_only will default to False. Either specify numeric_only or select only columns which should be valid for the function.\n",
      "  vs_iran = covid_data.groupby('Country_Region').sum().reset_index()\n"
     ]
    }
   ],
   "source": [
    "vs_iran = covid_data.groupby('Country_Region').sum().reset_index()\n",
    "vs_iran = vs_iran[(vs_iran['Confirmed'] > covid_data[covid_data['Country_Region']=='Iran']['Confirmed'].values[0]) & (vs_iran['Deaths'] < covid_data[covid_data['Country_Region']=='Iran']['Deaths'].values[0])]\n",
    "vs_iran = vs_iran[['Country_Region','Confirmed','Deaths','Recovered']].sort_values('Confirmed',ascending=False)\n",
    "#vs_iran.drop(index=vs_iran.index[0], axis=0, inplace=True)\n",
    "vs_iran.to_csv(\"vsiran.csv\",header=False ,index=True)"
   ]
  },
  {
   "attachments": {},
   "cell_type": "markdown",
   "metadata": {},
   "source": [
    "<h2 align=right style=\"line-height:200%;font-family:vazir;color:#0099cc\">\n",
    "<font face=\"vazir\" color=\"#0099cc\">\n",
    "قسمت چهارم\n",
    "</font>\n",
    "</h2>\n",
    "\n",
    "\n",
    "<p dir=rtl style=\"direction: rtl; text-align: justify; line-height:200%; font-family:vazir; font-size:medium\">\n",
    "<font face=\"vazir\" size=3>\n",
    "در ادامه می‌خواهیم ادعای سخنگوی وزارت بهداشت کشوری را ارزیابی کنیم که ادعا می‌کند کشورش با توجه به آمار فوتی‌هایشان در این روز، جزو ۲۰ درصد برتر جهان است (هنوز در آن زمان عبارتی مثل «کشورهای برتر یک درصد جهان» کشف نشده بود :) ).\n",
    "<br>\n",
    "ما تعداد مرگ‌های گزارش‌شده را به تنهایی کافی نمی‌دانیم و فرض کنید برای راستی‌آزمایی این ادعا می‌خواهیم از شاخص ساده‌ای چون <b style=\"color:#0099cc\">نسبت تعداد متوفیان به مبتلایان</b> استفاده کنیم. البته برای اینکه اینقدر هم دیگر ساده نباشد (!)، می‌خواهیم کشورهایی که مبتلایان تایید شده‌ی کمی در این روز داشته‌اند را در نظر نگیریم و برای این کار ۲۰ درصد کشورهایی که کمترین مبتلایان را داشته‌اند را نیز کنار می‌گذاریم و سپس شاخص مربوطه را برای کشورهای باقی‌مانده لحاظ می‌کنیم.\n",
    "<br>\n",
    "مقدار شاخص را در ستونی به نام <code>death_ratio</code> ذخیره کرده و\n",
    "فهرست ۲۰ درصد برتر را به همراه مقدار شاخص ذکر شده در فایلی به نام \n",
    "    <code>20percent.csv</code> ذخیره کنید.\n",
    "\n",
    "</font>\n",
    "</p>\n",
    "\n",
    "<p dir=rtl style=\"direction: rtl;text-align: justify;line-height:200%;font-family:vazir;font-size:medium\">\n",
    "<b style=\"color:orange\">توجه:</b>\n",
    "آن دسته از ردیف‌هایی که مقدار ستون <code>Confirmed</code> آن‌ها برابر صفر است را در نظر نگرفته و حذف کنید.\n",
    "</font>\n",
    "</p>\n",
    "\n",
    "<p dir=rtl style=\"direction: rtl;text-align: justify;line-height:200%;font-family:vazir;font-size:medium\">\n",
    "<b style=\"color:green\">راهنمایی:</b>\n",
    "دیتافریم حاصل شامل ۳۰ ردیف خواهد بود.\n",
    "</font>\n",
    "</p>"
   ]
  },
  {
   "cell_type": "code",
   "execution_count": 8,
   "metadata": {},
   "outputs": [
    {
     "name": "stderr",
     "output_type": "stream",
     "text": [
      "C:\\Users\\Saleh\\AppData\\Local\\Temp\\ipykernel_964\\1620003806.py:2: FutureWarning: The default value of numeric_only in DataFrameGroupBy.sum is deprecated. In a future version, numeric_only will default to False. Either specify numeric_only or select only columns which should be valid for the function.\n",
      "  covid_data_filtered_2 = covid_data.groupby('Country_Region').sum().reset_index()\n"
     ]
    }
   ],
   "source": [
    "# Exclude rows with Confirmed = 0\n",
    "covid_data_filtered_2 = covid_data.groupby('Country_Region').sum().reset_index()\n",
    "covid_data_filtered_2 = covid_data_filtered_2[covid_data_filtered_2['Confirmed'] != 0]\n",
    "#covid_data_filtered_2 = covid_data_filtered_2[covid_data_filtered_2['Deaths'] != 0]\n",
    "\n",
    "\n",
    "# Calculate death_ratio as Deaths/Confirmed\n",
    "covid_data_filtered_2['Death_Ratio'] = covid_data_filtered_2['Deaths'] / covid_data_filtered_2['Confirmed']\n",
    "\n",
    "# Remove bottom 20% of countries based on Confirmed count\n",
    "top_countries = covid_data_filtered_2.nlargest(int(len(covid_data_filtered_2) * (80/100)), 'Confirmed')\n",
    "sorted_data = top_countries[['Country_Region','Death_Ratio']].sort_values('Death_Ratio', ascending=True).head(int(len(top_countries) * .2))\n",
    "# Select the top 20% countries with lowest confirmed cases and highest death ratios\n",
    "\n",
    "# Save top_countries dataframe to csv file including only Country/Region and death_ratio columns\n",
    "sorted_data[['Country_Region', 'Death_Ratio']].to_csv('20percent.csv', header=False, index=True)"
   ]
  },
  {
   "cell_type": "markdown",
   "metadata": {},
   "source": [
    "<h2 align=right style=\"line-height:200%;font-family:vazir;color:#0099cc\">\n",
    "<font face=\"vazir\" color=\"#0099cc\">\n",
    "<b>سلول جواب‌ساز</b>\n",
    "</font>\n",
    "</h2>\n",
    "\n",
    "<p dir=rtl style=\"direction: rtl; text-align: justify; line-height:200%; font-family:vazir; font-size:medium\">\n",
    "<font face=\"vazir\" size=3>\n",
    "    برای ساخته‌شدن فایل <code>result.zip</code> سلول زیر را اجرا کنید. توجه داشته باشید که پیش از اجرای سلول زیر تغییرات اعمال شده در نت‌بوک را ذخیره کرده باشید (<code>ctrl+s</code>) تا در صورت نیاز به راهنمایی امکان بررسی کد شما وجود داشته باشد.\n",
    "</font>\n",
    "</p>"
   ]
  },
  {
   "cell_type": "code",
   "execution_count": 9,
   "metadata": {},
   "outputs": [
    {
     "name": "stdout",
     "output_type": "stream",
     "text": [
      "File Paths:\n",
      "['top10cases.csv', 'norecovered.csv', 'vsiran.csv', '20percent.csv', 'covid19.ipynb']\n"
     ]
    }
   ],
   "source": [
    "import zlib\n",
    "import zipfile\n",
    "\n",
    "def compress(file_names):\n",
    "    print(\"File Paths:\")\n",
    "    print(file_names)\n",
    "    compression = zipfile.ZIP_DEFLATED\n",
    "    with zipfile.ZipFile(\"result.zip\", mode=\"w\") as zf:\n",
    "        for file_name in file_names:\n",
    "            zf.write('./' + file_name, file_name, compress_type=compression)\n",
    "\n",
    "file_names = [\"top10cases.csv\", \"norecovered.csv\", \"vsiran.csv\", \"20percent.csv\", \"covid19.ipynb\"]\n",
    "compress(file_names)"
   ]
  }
 ],
 "metadata": {
  "kernelspec": {
   "display_name": "Python 3 (ipykernel)",
   "language": "python",
   "name": "python3"
  },
  "language_info": {
   "codemirror_mode": {
    "name": "ipython",
    "version": 3
   },
   "file_extension": ".py",
   "mimetype": "text/x-python",
   "name": "python",
   "nbconvert_exporter": "python",
   "pygments_lexer": "ipython3",
   "version": "3.9.17"
  },
  "latex_envs": {
   "LaTeX_envs_menu_present": true,
   "autoclose": false,
   "autocomplete": true,
   "bibliofile": "biblio.bib",
   "cite_by": "apalike",
   "current_citInitial": 1,
   "eqLabelWithNumbers": true,
   "eqNumInitial": 1,
   "hotkeys": {
    "equation": "Ctrl-E",
    "itemize": "Ctrl-I"
   },
   "labels_anchors": false,
   "latex_user_defs": false,
   "report_style_numbering": false,
   "user_envs_cfg": false
  },
  "toc": {
   "base_numbering": 1,
   "nav_menu": {},
   "number_sections": true,
   "sideBar": true,
   "skip_h1_title": false,
   "title_cell": "Table of Contents",
   "title_sidebar": "Contents",
   "toc_cell": false,
   "toc_position": {},
   "toc_section_display": true,
   "toc_window_display": false
  },
  "varInspector": {
   "cols": {
    "lenName": 16,
    "lenType": 16,
    "lenVar": 40
   },
   "kernels_config": {
    "python": {
     "delete_cmd_postfix": "",
     "delete_cmd_prefix": "del ",
     "library": "var_list.py",
     "varRefreshCmd": "print(var_dic_list())"
    },
    "r": {
     "delete_cmd_postfix": ") ",
     "delete_cmd_prefix": "rm(",
     "library": "var_list.r",
     "varRefreshCmd": "cat(var_dic_list()) "
    }
   },
   "types_to_exclude": [
    "module",
    "function",
    "builtin_function_or_method",
    "instance",
    "_Feature"
   ],
   "window_display": false
  },
  "vscode": {
   "interpreter": {
    "hash": "6a29b8f2e1e8b11f80c3820468461bcdbea6564508a235f61a46eeb59d48b308"
   }
  }
 },
 "nbformat": 4,
 "nbformat_minor": 4
}
