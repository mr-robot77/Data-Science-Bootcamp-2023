{
 "cells": [
  {
   "attachments": {},
   "cell_type": "markdown",
   "metadata": {},
   "source": [
    "<h1 align=center style=\"line-height:200%;font-family:vazir;color:#0099cc\">\n",
    "<font face=\"vazir\" color=\"#0099cc\">\n",
    "دست‌گرمی\n",
    "</font>\n",
    "</h1>\n",
    "\n",
    "<p dir=rtl style=\"direction: rtl;text-align: justify;line-height:200%;font-family:vazir;font-size:medium\">\n",
    "<font face=\"vazir\" size=3>\n",
    "در این تمرین می‌خواهیم مقدمات کار با <code>numpy</code> را با هم تمرین کنیم.\n",
    "</font>\n",
    "</p>"
   ]
  },
  {
   "attachments": {},
   "cell_type": "markdown",
   "metadata": {},
   "source": [
    "<h2 align=right style=\"line-height:200%;font-family:vazir;color:#0099cc\">\n",
    "<font face=\"vazir\" color=\"#0099cc\">\n",
    "سوال ۱\n",
    "</font>\n",
    "</h2>\n",
    "\n",
    "<p dir=rtl style=\"direction: rtl;text-align: justify;line-height:200%;font-family:vazir;font-size:medium\">\n",
    "<font face=\"vazir\" size=3>\n",
    "در سوال ۱ قصد داریم نسبت به سرعت بالای آرایه‌های \n",
    "<code>numpy</code>\n",
    " در مقایسه با لیست‌های پایتون در محاسبات عددی شهود بهتری پیدا کنیم.\n",
    " بدین منظور از شما می‌خواهیم به دو روش تابع محاسبه نرم اقلیدسی (نرم ۲) را بنویسید. این تابع  لیستی از اعداد را (که نمایانگر یک بردار است) به عنوان ورودی گرفته و نرم \n",
    " اقلیدسی آن را به خروجی می‌دهد. فرمول محاسبه نرم اقلیدسی بردار\n",
    " <code>X</code>\n",
    "در ادامه آمده است.\n",
    "</font>\n",
    "</p>\n",
    "\n",
    "$$\n",
    "\\|\\mathbf{X}\\|_2 = \\sqrt{\\sum_{i=1}^n x_i^2}\n",
    "$$\n",
    "\n",
    "\n",
    "<p dir=rtl style=\"direction: rtl;text-align: justify;line-height:200%;font-family:vazir;font-size:medium\">\n",
    "<font face=\"vazir\" size=3>\n",
    "<b style=\"color:#0099cc\">توضیح فرمول:</b>\n",
    "نخست هر عنصر لیست را به توان ۲ رسانده، سپس این مقادیر را با همدیگر جمع کرده و نهایتاً از آن‌ جذر بگیرید.\n",
    "</p>\n",
    "\n",
    "\n",
    "<p dir=rtl style=\"direction: rtl;text-align: justify;line-height:200%;font-family:vazir;font-size:medium\">\n",
    "<font face=\"vazir\" size=3>\n",
    " در حالت اول تابعی تحت عنوان <code>euclidean_norm_list</code> بنویسید. این تابع را بدون استفاده از پکیج </font>\n",
    "<code>numpy</code>\n",
    "و تنها با توابع و متد‌های لیست پایتون پیاده‌سازی کنید. می‌توانید در صورت نیاز از ماژول <code>math</code>\n",
    "استفاده کنید.\n",
    "</p>"
   ]
  },
  {
   "cell_type": "code",
   "execution_count": 21,
   "metadata": {},
   "outputs": [],
   "source": [
    "def euclidean_norm_list(mylist):\n",
    "    import math\n",
    "    squared_sum = 0\n",
    "    for num in mylist:\n",
    "        squared_sum += num**2\n",
    "    result = math.sqrt(squared_sum)\n",
    "    return result"
   ]
  },
  {
   "cell_type": "markdown",
   "metadata": {},
   "source": [
    "\n",
    "<p dir=rtl style=\"direction: rtl;text-align: justify;line-height:200%;font-family:vazir;font-size:medium\">\n",
    "<font face=\"vazir\" size=3>\n",
    "اکنون تابعی با نام \n",
    "<code>euclidean_norm_np</code>\n",
    "بنویسید تا نرم اقلیدسی را با استفاده از پکیج <code>numpy</code>\n",
    "محاسبه کند.\n",
    "</p>"
   ]
  },
  {
   "cell_type": "code",
   "execution_count": 22,
   "metadata": {},
   "outputs": [],
   "source": [
    "def euclidean_norm_np(mylist):\n",
    "    import numpy as np\n",
    "    norm = np.linalg.norm(mylist)\n",
    "    return norm"
   ]
  },
  {
   "attachments": {},
   "cell_type": "markdown",
   "metadata": {},
   "source": [
    "\n",
    "<p dir=rtl style=\"direction: rtl;text-align: justify;line-height:200%;font-family:vazir;font-size:medium\">\n",
    "<font face=\"vazir\" size=3>\n",
    "جهت مقایسه سرعت اجرای دو تابع، از دستور جادویی \n",
    "<code>timeit</code>    \n",
    " و برای ذخیره نتایج در متغیر‌های <code>a</code> و <code>b</code> از آرگومان \n",
    "<code dir=ltr>-o</code>\n",
    "استفاده خواهیم کرد. \n",
    "جهت کسب اطلاعات بیشتر درباره‌ی <i>دستورات جادویی (magic codes)</i> می‌توانید به این\n",
    "<a href=\"https://coderzcolumn.com/tutorials/python/list-of-useful-magic-commands-in-jupyter-notebook-lab\"> لینک</a>\n",
    "مراجعه کنید.\n",
    "لیست اعداد ورودی برای تست توابع و دستورات\n",
    "<code>timeit</code> \n",
    "در ادامه آمده است، تنها لازم است پس از تکمیل توابع فوق قطعه کد‌های زیر را اجرا نمایید تا مدت زمان اجرای هر تابع را در خروجی دریافت کنید. \n",
    "</p>"
   ]
  },
  {
   "cell_type": "code",
   "execution_count": 23,
   "metadata": {},
   "outputs": [],
   "source": [
    "input = list(range(1000000))"
   ]
  },
  {
   "cell_type": "code",
   "execution_count": 24,
   "metadata": {},
   "outputs": [
    {
     "name": "stdout",
     "output_type": "stream",
     "text": [
      "1.09 s ± 343 ms per loop (mean ± std. dev. of 7 runs, 1 loop each)\n"
     ]
    }
   ],
   "source": [
    "a = %timeit -o euclidean_norm_list(input)"
   ]
  },
  {
   "cell_type": "code",
   "execution_count": 25,
   "metadata": {},
   "outputs": [
    {
     "name": "stdout",
     "output_type": "stream",
     "text": [
      "197 ms ± 8.71 ms per loop (mean ± std. dev. of 7 runs, 10 loops each)\n"
     ]
    }
   ],
   "source": [
    "b = %timeit -o euclidean_norm_np(input)"
   ]
  },
  {
   "cell_type": "markdown",
   "metadata": {},
   "source": [
    "<p dir=rtl style=\"direction: rtl;text-align: justify;line-height:200%;font-family:vazir;font-size:medium\">\n",
    "<font face=\"vazir\" size=3>\n",
    "با استفاده از دستور جادویی <code>save</code> کد تابع خود را در قالب فایل <code dir=ltr>.py</code> ذخیره کنید تا بتوانیم در سلول جواب‌ساز، آن را در فایل <code>result.zip</code> قرار دهیم.\n",
    "</font>\n",
    "</p>\n"
   ]
  },
  {
   "cell_type": "code",
   "execution_count": 26,
   "metadata": {},
   "outputs": [
    {
     "name": "stdout",
     "output_type": "stream",
     "text": [
      "The following commands were written to file `euclidean_norm_list.py`:\n",
      "def euclidean_norm_list(mylist):\n",
      "    import math\n",
      "    squared_sum = 0\n",
      "    for num in mylist:\n",
      "        squared_sum += num**2\n",
      "    result = math.sqrt(squared_sum)\n",
      "    return result\n",
      "\n",
      "The following commands were written to file `euclidean_norm_np.py`:\n",
      "def euclidean_norm_np(mylist):\n",
      "    import numpy as np\n",
      "    norm = np.linalg.norm(mylist)\n",
      "    return norm\n",
      "\n"
     ]
    }
   ],
   "source": [
    "from inspect import getsource\n",
    "%save euclidean_norm_list getsource(euclidean_norm_list)\n",
    "%save euclidean_norm_np getsource(euclidean_norm_np)"
   ]
  },
  {
   "attachments": {},
   "cell_type": "markdown",
   "metadata": {},
   "source": [
    "<h2 align=right style=\"line-height:200%;font-family:vazir;color:#0099cc\">\n",
    "<font face=\"vazir\" color=\"#0099cc\">\n",
    "سوال ۲\n",
    "</font>\n",
    "</h2>\n",
    "\n",
    "<p dir=rtl style=\"direction: rtl;text-align: justify;line-height:200%;font-family:vazir;font-size:medium\">\n",
    "<font face=\"vazir\" size=3>\n",
    "در این بخش از شما می‌خواهیم تابعی به نام <code>custom_filter</code>\n",
    " با دو ورودی \n",
    "<code>arr</code>\n",
    "و\n",
    "<code>L</code>\n",
    "بنویسید که\n",
    "<code>arr</code>\n",
    "یک آرایه‌ی دو بعدی متشکل از آرایه‌های تک بعدی با طول \n",
    "<code>n</code>\n",
    "است و \n",
    "<code>L</code>\n",
    "لیستی به طول \n",
    "<code>n</code> باشد.\n",
    "عملکرد تابع \n",
    "<code>custom_filter</code>\n",
    "به این‌صورت است که نخست <code>L</code> را به انتهای آرایه <code>arr</code> اضافه‌ می‌کند (منظور <code>append</code> است)، سپس در آرایه‌ی دو بعدی جدید، هر ستونی (آرایه‌ی دوبعدی را همچون یک ماتریس در نظر بگیرید) را که شامل عددی بزرگتر مساوی ۱۰ یا کوچکتر مساوی ۱ است از آرایه حذف می‌کند و نهایتاً آرایه را به خروجی تابع می‌دهد. چنان‌چه آرایه‌ی خروجی تهی باشد به جای آن عبارت <code>Null</code> به صورت <code>string</code> در خروجی نمایش داده می‌شود. \n",
    "</font>\n",
    "</p>"
   ]
  },
  {
   "cell_type": "code",
   "execution_count": 27,
   "metadata": {},
   "outputs": [],
   "source": [
    "def custom_filter(arr,L):\n",
    "    import numpy as np\n",
    "    # convert to numpy arrays\n",
    "    arr = np.array(arr)\n",
    "    L = np.array(L)\n",
    "\n",
    "    # append L to arr\n",
    "    arr = np.vstack((arr, L))\n",
    "\n",
    "    # filter the columns in the 2-d array\n",
    "    filtered_columns = [col for col in arr.T if ((col >= 10) | (col <=1)).sum() == 0]\n",
    "\n",
    "    # check if filtered_columns is empty\n",
    "    if len(filtered_columns) == 0:\n",
    "        return \"Null\"\n",
    "    else:\n",
    "        return np.array(filtered_columns).T"
   ]
  },
  {
   "attachments": {},
   "cell_type": "markdown",
   "metadata": {},
   "source": [
    "\n",
    "<p dir=rtl style=\"direction: rtl;text-align: justify;line-height:200%;font-family:vazir;font-size:medium\">\n",
    "<font face=\"vazir\" size=3>\n",
    "<b style=\"color:purple\">توجه:</b>\n",
    "نمونه‌هایی از ورودی و خروجی تابع به صورت کامنت در سلول زیر قرار داده شده است. \n",
    "</font>\n",
    "</p>"
   ]
  },
  {
   "cell_type": "code",
   "execution_count": 28,
   "metadata": {},
   "outputs": [
    {
     "name": "stdout",
     "output_type": "stream",
     "text": [
      "[[2]\n",
      " [5]\n",
      " [8]\n",
      " [9]]\n",
      "[[2 3]\n",
      " [5 6]\n",
      " [8 9]\n",
      " [8 9]]\n",
      "Null\n"
     ]
    }
   ],
   "source": [
    "###################################################################################\n",
    "#Ex1: \n",
    "print(custom_filter(np.array([[1, 2, 3], [4, 5, 6], [7, 8, 9]]),[8,9,10]))\n",
    "# array([[2],\n",
    "#        [5],\n",
    "#        [8],\n",
    "#        [9]])\n",
    "#\n",
    "#Ex2: \n",
    "print(custom_filter(np.array([[1, 2, 3], [4, 5, 6], [7, 8, 9]]),[7,8,9]))\n",
    "# array([[2, 3],\n",
    "#        [5, 6],\n",
    "#        [8, 9],\n",
    "#        [8, 9]])\n",
    "#\n",
    "#Ex3: \n",
    "print(custom_filter(np.array([[1, 2, 3], [4, 5, 6], [7, 8, 9]]),[9,10,11]))\n",
    "# 'Null'\n",
    "###################################################################################"
   ]
  },
  {
   "cell_type": "markdown",
   "metadata": {},
   "source": [
    "<p dir=rtl style=\"direction: rtl;text-align: justify;line-height:200%;font-family:vazir;font-size:medium\">\n",
    "<font face=\"vazir\" size=3>\n",
    "با استفاده از دستور جادویی <code>save</code> کد تابع خود را در قالب فایل <code dir=ltr>.py</code> ذخیره کنید تا بتوانیم در سلول جواب‌ساز، آن را در فایل <code>result.zip</code> قرار دهیم.\n",
    "</font>\n",
    "</p>\n"
   ]
  },
  {
   "cell_type": "code",
   "execution_count": 29,
   "metadata": {},
   "outputs": [
    {
     "name": "stdout",
     "output_type": "stream",
     "text": [
      "The following commands were written to file `custom_filter.py`:\n",
      "def custom_filter(arr,L):\n",
      "    import numpy as np\n",
      "    # convert to numpy arrays\n",
      "    arr = np.array(arr)\n",
      "    L = np.array(L)\n",
      "\n",
      "    # append L to arr\n",
      "    arr = np.vstack((arr, L))\n",
      "\n",
      "    # filter the columns in the 2-d array\n",
      "    filtered_columns = [col for col in arr.T if ((col >= 10) | (col <=1)).sum() == 0]\n",
      "\n",
      "    # check if filtered_columns is empty\n",
      "    if len(filtered_columns) == 0:\n",
      "        return \"Null\"\n",
      "    else:\n",
      "        return np.array(filtered_columns).T\n",
      "\n"
     ]
    }
   ],
   "source": [
    "from inspect import getsource\n",
    "%save custom_filter getsource(custom_filter)"
   ]
  },
  {
   "attachments": {},
   "cell_type": "markdown",
   "metadata": {},
   "source": [
    "<h2 align=right style=\"line-height:200%;font-family:vazir;color:#0099cc\">\n",
    "<font face=\"vazir\" color=\"#0099cc\">\n",
    "<b>سلول جواب‌ساز</b>\n",
    "</font>\n",
    "</h2>\n",
    "\n",
    "\n",
    "<p dir=rtl style=\"direction: rtl; text-align: justify; line-height:200%; font-family:vazir; font-size:medium\">\n",
    "<font face=\"vazir\" size=3>\n",
    "    برای ساخته‌شدن فایل <code>result.zip</code> سلول زیر را اجرا کنید. توجه داشته باشید که پیش از اجرای سلول زیر تغییرات اعمال شده در نت‌بوک را ذخیره کرده باشید (<code>ctrl+s</code>) تا در صورت نیاز به پشتیبانی امکان بررسی کد شما وجود داشته باشد.\n",
    "</font>\n",
    "</p>"
   ]
  },
  {
   "cell_type": "code",
   "execution_count": 30,
   "metadata": {},
   "outputs": [
    {
     "name": "stdout",
     "output_type": "stream",
     "text": [
      "File Paths:\n",
      "['euclidean_norm_list.py', 'euclidean_norm_np.py', 'custom_filter.py', 'a', 'b', 'warm_up.ipynb']\n"
     ]
    }
   ],
   "source": [
    "import zlib\n",
    "import zipfile\n",
    "import joblib\n",
    "\n",
    "joblib.dump(a,\"a\")\n",
    "joblib.dump(b,\"b\")\n",
    "\n",
    "def compress(file_names):\n",
    "    print(\"File Paths:\")\n",
    "    print(file_names)\n",
    "    compression = zipfile.ZIP_DEFLATED\n",
    "    with zipfile.ZipFile(\"result.zip\", mode=\"w\") as zf:\n",
    "        for file_name in file_names:\n",
    "            zf.write('./' + file_name, file_name, compress_type=compression)\n",
    "\n",
    "file_names = ['euclidean_norm_list.py', 'euclidean_norm_np.py',\n",
    "              'custom_filter.py', 'a', 'b', 'warm_up.ipynb']\n",
    "\n",
    "compress(file_names)"
   ]
  }
 ],
 "metadata": {
  "kernelspec": {
   "display_name": "Python 3",
   "language": "python",
   "name": "python3"
  },
  "language_info": {
   "codemirror_mode": {
    "name": "ipython",
    "version": 3
   },
   "file_extension": ".py",
   "mimetype": "text/x-python",
   "name": "python",
   "nbconvert_exporter": "python",
   "pygments_lexer": "ipython3",
   "version": "3.9.17"
  },
  "orig_nbformat": 4
 },
 "nbformat": 4,
 "nbformat_minor": 2
}
