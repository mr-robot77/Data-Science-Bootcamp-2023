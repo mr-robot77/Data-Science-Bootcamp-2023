{
 "cells": [
  {
   "attachments": {},
   "cell_type": "markdown",
   "metadata": {},
   "source": [
    "<h1 align=center style=\"line-height:200%;font-family:vazir;color:#0099cc\">\n",
    "<font face=\"vazir\" color=\"#0099cc\">\n",
    " شهر‌های پرجمعیت\n",
    "</font>\n",
    "</h1>\n",
    "\n",
    "<p dir=rtl style=\"direction: rtl;text-align: justify;line-height:200%;font-family:vazir;font-size:medium\">\n",
    "<font face=\"vazir\" size=3>\n",
    "در این تمرین با اطلاعات بیش از ۴۰هزار شهر در قالب یک دیتافریم مواجه می‌شوید و با هدف تمرین کتابخانه‌های <code>pandas</code> و <code>numpy</code> باید تغییراتی روی این دیتافریم ایجاد کنید.   \n",
    "</font>\n",
    "</p>"
   ]
  },
  {
   "cell_type": "code",
   "execution_count": 1,
   "metadata": {},
   "outputs": [],
   "source": [
    "import numpy as np\n",
    "import pandas as pd"
   ]
  },
  {
   "attachments": {},
   "cell_type": "markdown",
   "metadata": {},
   "source": [
    "<h2 align=right style=\"line-height:200%;font-family:vazir;color:#0099cc\">\n",
    "<font face=\"vazir\" color=\"#0099cc\">\n",
    "مجموعه داده\n",
    "</font>\n",
    "</h2>\n",
    "\n",
    "<p dir=rtl style=\"direction: rtl;text-align: justify;line-height:200%;font-family:vazir;font-size:medium\">\n",
    "<font face=\"vazir\" size=3>\n",
    "داده‌ها را از فایل اکسل <code>worldcities.xlsx</code> که در پوشه تمرین قرار دارد بخوانید و در متغیر \n",
    "<code>df</code>\n",
    " ذخیره کنید.\n",
    "\n",
    "</font>\n",
    "</p>"
   ]
  },
  {
   "cell_type": "code",
   "execution_count": 2,
   "metadata": {},
   "outputs": [
    {
     "data": {
      "text/html": [
       "<div>\n",
       "<style scoped>\n",
       "    .dataframe tbody tr th:only-of-type {\n",
       "        vertical-align: middle;\n",
       "    }\n",
       "\n",
       "    .dataframe tbody tr th {\n",
       "        vertical-align: top;\n",
       "    }\n",
       "\n",
       "    .dataframe thead th {\n",
       "        text-align: right;\n",
       "    }\n",
       "</style>\n",
       "<table border=\"1\" class=\"dataframe\">\n",
       "  <thead>\n",
       "    <tr style=\"text-align: right;\">\n",
       "      <th></th>\n",
       "      <th>ville</th>\n",
       "      <th>ville_ascii</th>\n",
       "      <th>lat</th>\n",
       "      <th>lng</th>\n",
       "      <th>pays</th>\n",
       "      <th>iso2</th>\n",
       "      <th>iso3</th>\n",
       "      <th>admin_nom</th>\n",
       "      <th>capital</th>\n",
       "      <th>population</th>\n",
       "      <th>id</th>\n",
       "    </tr>\n",
       "  </thead>\n",
       "  <tbody>\n",
       "    <tr>\n",
       "      <th>0</th>\n",
       "      <td>A Coruña</td>\n",
       "      <td>A Coruna</td>\n",
       "      <td>43.3667</td>\n",
       "      <td>-8.3833</td>\n",
       "      <td>Spain</td>\n",
       "      <td>ES</td>\n",
       "      <td>ESP</td>\n",
       "      <td>Galicia</td>\n",
       "      <td>minor</td>\n",
       "      <td>245468.0</td>\n",
       "      <td>1.724417e+09</td>\n",
       "    </tr>\n",
       "    <tr>\n",
       "      <th>1</th>\n",
       "      <td>A Yun Pa</td>\n",
       "      <td>A Yun Pa</td>\n",
       "      <td>13.3939</td>\n",
       "      <td>108.4408</td>\n",
       "      <td>Vietnam</td>\n",
       "      <td>VN</td>\n",
       "      <td>VNM</td>\n",
       "      <td>Gia Lai</td>\n",
       "      <td>minor</td>\n",
       "      <td>53720.0</td>\n",
       "      <td>1.704946e+09</td>\n",
       "    </tr>\n",
       "    <tr>\n",
       "      <th>2</th>\n",
       "      <td>Aabenraa</td>\n",
       "      <td>Aabenraa</td>\n",
       "      <td>55.0444</td>\n",
       "      <td>9.4181</td>\n",
       "      <td>Denmark</td>\n",
       "      <td>DK</td>\n",
       "      <td>DNK</td>\n",
       "      <td>Syddanmark</td>\n",
       "      <td>minor</td>\n",
       "      <td>16401.0</td>\n",
       "      <td>1.208000e+09</td>\n",
       "    </tr>\n",
       "    <tr>\n",
       "      <th>3</th>\n",
       "      <td>Aachen</td>\n",
       "      <td>Aachen</td>\n",
       "      <td>50.7756</td>\n",
       "      <td>6.0836</td>\n",
       "      <td>Germany</td>\n",
       "      <td>DE</td>\n",
       "      <td>DEU</td>\n",
       "      <td>North Rhine-Westphalia</td>\n",
       "      <td>minor</td>\n",
       "      <td>249070.0</td>\n",
       "      <td>1.276806e+09</td>\n",
       "    </tr>\n",
       "    <tr>\n",
       "      <th>4</th>\n",
       "      <td>Aadorf</td>\n",
       "      <td>Aadorf</td>\n",
       "      <td>47.4939</td>\n",
       "      <td>8.8975</td>\n",
       "      <td>Switzerland</td>\n",
       "      <td>CH</td>\n",
       "      <td>CHE</td>\n",
       "      <td>Thurgau</td>\n",
       "      <td>NaN</td>\n",
       "      <td>9036.0</td>\n",
       "      <td>1.756023e+09</td>\n",
       "    </tr>\n",
       "  </tbody>\n",
       "</table>\n",
       "</div>"
      ],
      "text/plain": [
       "      ville ville_ascii      lat       lng         pays iso2 iso3  \\\n",
       "0  A Coruña    A Coruna  43.3667   -8.3833        Spain   ES  ESP   \n",
       "1  A Yun Pa    A Yun Pa  13.3939  108.4408      Vietnam   VN  VNM   \n",
       "2  Aabenraa    Aabenraa  55.0444    9.4181      Denmark   DK  DNK   \n",
       "3    Aachen      Aachen  50.7756    6.0836      Germany   DE  DEU   \n",
       "4    Aadorf      Aadorf  47.4939    8.8975  Switzerland   CH  CHE   \n",
       "\n",
       "                admin_nom capital  population            id  \n",
       "0                 Galicia   minor    245468.0  1.724417e+09  \n",
       "1                 Gia Lai   minor     53720.0  1.704946e+09  \n",
       "2              Syddanmark   minor     16401.0  1.208000e+09  \n",
       "3  North Rhine-Westphalia   minor    249070.0  1.276806e+09  \n",
       "4                 Thurgau     NaN      9036.0  1.756023e+09  "
      ]
     },
     "execution_count": 2,
     "metadata": {},
     "output_type": "execute_result"
    }
   ],
   "source": [
    "# load data\n",
    "df = pd.read_excel('worldcities.xlsx')\n",
    "df.head()"
   ]
  },
  {
   "cell_type": "markdown",
   "metadata": {},
   "source": [
    "<h2 align=right style=\"line-height:200%;font-family:vazir;color:#0099cc\">\n",
    "<font face=\"vazir\" color=\"#0099cc\">\n",
    "حذف و نام‌گذاری ستون‌ها\n",
    "</font>\n",
    "</h2>\n",
    "\n",
    "<p dir=rtl style=\"direction: rtl;text-align: justify;line-height:200%;font-family:vazir;font-size:medium\">\n",
    "<font face=\"vazir\" size=3>\n",
    "ستون‌های\n",
    "<code>id</code>،\n",
    "<code>‌capital</code>،\n",
    "<code>ville_ascii</code> \n",
    "و \n",
    "<code>admin_nom</code>\n",
    " را از دیتافریم حذف نمایید.\n",
    "سپس نام ستون‌های \n",
    "<code>ville</code> \n",
    "و \n",
    "<code>pays</code>\n",
    " که به زبان فرانسوی نامگذاری شده‌اند را به ترتیب به \n",
    "<code>city</code> \n",
    "و \n",
    "<code>country</code>\n",
    "تغییر دهید.\n",
    "</font>\n",
    "</p>"
   ]
  },
  {
   "cell_type": "code",
   "execution_count": 3,
   "metadata": {},
   "outputs": [
    {
     "data": {
      "text/html": [
       "<div>\n",
       "<style scoped>\n",
       "    .dataframe tbody tr th:only-of-type {\n",
       "        vertical-align: middle;\n",
       "    }\n",
       "\n",
       "    .dataframe tbody tr th {\n",
       "        vertical-align: top;\n",
       "    }\n",
       "\n",
       "    .dataframe thead th {\n",
       "        text-align: right;\n",
       "    }\n",
       "</style>\n",
       "<table border=\"1\" class=\"dataframe\">\n",
       "  <thead>\n",
       "    <tr style=\"text-align: right;\">\n",
       "      <th></th>\n",
       "      <th>city</th>\n",
       "      <th>lat</th>\n",
       "      <th>lng</th>\n",
       "      <th>country</th>\n",
       "      <th>iso2</th>\n",
       "      <th>iso3</th>\n",
       "      <th>population</th>\n",
       "    </tr>\n",
       "  </thead>\n",
       "  <tbody>\n",
       "    <tr>\n",
       "      <th>0</th>\n",
       "      <td>A Coruña</td>\n",
       "      <td>43.3667</td>\n",
       "      <td>-8.3833</td>\n",
       "      <td>Spain</td>\n",
       "      <td>ES</td>\n",
       "      <td>ESP</td>\n",
       "      <td>245468.0</td>\n",
       "    </tr>\n",
       "    <tr>\n",
       "      <th>1</th>\n",
       "      <td>A Yun Pa</td>\n",
       "      <td>13.3939</td>\n",
       "      <td>108.4408</td>\n",
       "      <td>Vietnam</td>\n",
       "      <td>VN</td>\n",
       "      <td>VNM</td>\n",
       "      <td>53720.0</td>\n",
       "    </tr>\n",
       "    <tr>\n",
       "      <th>2</th>\n",
       "      <td>Aabenraa</td>\n",
       "      <td>55.0444</td>\n",
       "      <td>9.4181</td>\n",
       "      <td>Denmark</td>\n",
       "      <td>DK</td>\n",
       "      <td>DNK</td>\n",
       "      <td>16401.0</td>\n",
       "    </tr>\n",
       "    <tr>\n",
       "      <th>3</th>\n",
       "      <td>Aachen</td>\n",
       "      <td>50.7756</td>\n",
       "      <td>6.0836</td>\n",
       "      <td>Germany</td>\n",
       "      <td>DE</td>\n",
       "      <td>DEU</td>\n",
       "      <td>249070.0</td>\n",
       "    </tr>\n",
       "    <tr>\n",
       "      <th>4</th>\n",
       "      <td>Aadorf</td>\n",
       "      <td>47.4939</td>\n",
       "      <td>8.8975</td>\n",
       "      <td>Switzerland</td>\n",
       "      <td>CH</td>\n",
       "      <td>CHE</td>\n",
       "      <td>9036.0</td>\n",
       "    </tr>\n",
       "  </tbody>\n",
       "</table>\n",
       "</div>"
      ],
      "text/plain": [
       "       city      lat       lng      country iso2 iso3  population\n",
       "0  A Coruña  43.3667   -8.3833        Spain   ES  ESP    245468.0\n",
       "1  A Yun Pa  13.3939  108.4408      Vietnam   VN  VNM     53720.0\n",
       "2  Aabenraa  55.0444    9.4181      Denmark   DK  DNK     16401.0\n",
       "3    Aachen  50.7756    6.0836      Germany   DE  DEU    249070.0\n",
       "4    Aadorf  47.4939    8.8975  Switzerland   CH  CHE      9036.0"
      ]
     },
     "execution_count": 3,
     "metadata": {},
     "output_type": "execute_result"
    }
   ],
   "source": [
    "# drop and rename\n",
    "df.drop(['id', 'capital', 'ville_ascii', 'admin_nom'], axis=1, inplace=True)\n",
    "df.rename(columns={'ville': 'city', 'pays': 'country'}, inplace=True)\n",
    "df.head()"
   ]
  },
  {
   "cell_type": "markdown",
   "metadata": {},
   "source": [
    "<h2 align=right style=\"line-height:200%;font-family:vazir;color:#0099cc\">\n",
    "<font face=\"vazir\" color=\"#0099cc\">\n",
    "فیلتر داده\n",
    "</font>\n",
    "</h2>\n",
    "\n",
    "<p dir=rtl style=\"direction: rtl;text-align: justify;line-height:200%;font-family:vazir;font-size:medium\">\n",
    "<font face=\"vazir\" size=3>\n",
    "شهر‌های با جمعیت کمتر از ۱ میلیون نفر  را از دیتافریم حذف کرده (شهر‌های با جمعیت دقیقا ۱ میلیون نفر در دیتافریم بمانند) و سپس نوع داده‌های ستون \n",
    "<code>population</code>\n",
    " را از \n",
    " <code>float</code>\n",
    "  به\n",
    "  <code>int32</code>\n",
    "   تبدیل نمایید.\n",
    "</font>\n",
    "</p>"
   ]
  },
  {
   "cell_type": "code",
   "execution_count": 4,
   "metadata": {},
   "outputs": [
    {
     "data": {
      "text/plain": [
       "(776, 7)"
      ]
     },
     "execution_count": 4,
     "metadata": {},
     "output_type": "execute_result"
    }
   ],
   "source": [
    "# filter data\n",
    "df = df[df['population'] >= 1000000]\n",
    "df.shape"
   ]
  },
  {
   "cell_type": "code",
   "execution_count": 5,
   "metadata": {},
   "outputs": [
    {
     "data": {
      "text/plain": [
       "city           object\n",
       "lat           float64\n",
       "lng           float64\n",
       "country        object\n",
       "iso2           object\n",
       "iso3           object\n",
       "population      int32\n",
       "dtype: object"
      ]
     },
     "execution_count": 5,
     "metadata": {},
     "output_type": "execute_result"
    }
   ],
   "source": [
    "# change type population\n",
    "df['population'] = df['population'].astype('int32')\n",
    "df.dtypes"
   ]
  },
  {
   "cell_type": "markdown",
   "metadata": {},
   "source": [
    "<p dir=rtl style=\"direction: rtl;text-align: right;line-height:200%;font-family:vazir;font-size:medium\">\n",
    "<font face=\"vazir\" size=3>\n",
    "در مراحل بعدی می‌خواهیم برخی مقادیر دیتافریم را تغییر دهیم و جهت داوری تغییرات صورت گرفته تاکنون نیاز است یک کپی از <code>df</code> داشته باشیم. بدین منظور از تابع  <code>copy</code> استفاده می‌کنیم.\n",
    "به طور کلی استفاده از مساوی برای دیتافریم‌ها در پانداز مانند نامپای عمل می‌کنند و تنها یک رفرنس جدید به همان دیتافریم اضافه می‌شود بنابراین تغییر دادن هر کدام از دیتافریم‌ها باعث تغییر دیگری نیز می‌شود.\n",
    "    استفاده از تابع <code>copy</code> این قابلیت را برای ما ایجاد می‌کند که یک کپی از دیتافریم اولیه دریافت کنیم و تغییر یکی تاثیری روی دیگری نداشته باشد.\n",
    "<br>\n",
    "</font>\n",
    "</p>"
   ]
  },
  {
   "cell_type": "code",
   "execution_count": 6,
   "metadata": {},
   "outputs": [],
   "source": [
    "first_df = df.copy()"
   ]
  },
  {
   "cell_type": "markdown",
   "metadata": {},
   "source": [
    "<h2 align=right style=\"line-height:200%;font-family:vazir;color:#0099cc\">\n",
    "<font face=\"vazir\" color=\"#0099cc\">\n",
    "حذف داده‌های تکراری و گم‌شده\n",
    "</font>\n",
    "</h2>\n",
    "\n",
    "<p dir=rtl style=\"direction: rtl;text-align: justify;line-height:200%;font-family:vazir;font-size:medium\">\n",
    "<font face=\"vazir\" size=3>\n",
    "نخست ردیف‌های تکراری دیتافریم و سپس ردیف‌هایی که بیش از یک مورد (۲ مورد و بیش‌تر) از اطلاعات آن‌ها گم‌شده است را از دیتافریم حذف نمایید.\n",
    "</font>\n",
    "</p>"
   ]
  },
  {
   "cell_type": "code",
   "execution_count": 7,
   "metadata": {},
   "outputs": [
    {
     "data": {
      "text/plain": [
       "(767, 7)"
      ]
     },
     "execution_count": 7,
     "metadata": {},
     "output_type": "execute_result"
    }
   ],
   "source": [
    "# remove duplicated and missed values\n",
    "df.drop_duplicates(inplace=True)\n",
    "df.dropna(axis=0, thresh=6, inplace=True)\n",
    "df.shape"
   ]
  },
  {
   "attachments": {},
   "cell_type": "markdown",
   "metadata": {},
   "source": [
    "<h2 align=right style=\"line-height:200%;font-family:vazir;color:#0099cc\">\n",
    "<font face=\"vazir\" color=\"#0099cc\">\n",
    "پر کردن داده‌ها گم‌شده\n",
    "</font>\n",
    "</h2>\n",
    "\n",
    "<p dir=rtl style=\"direction: rtl;text-align: justify;line-height:200%;font-family:vazir;font-size:medium\">\n",
    "<font face=\"vazir\" size=3>\n",
    "در ادامه این تمرین قصد داریم محاسباتی را بر روی ستون‌های \n",
    "<code>lat</code> و \n",
    "<code>lng</code>\n",
    " انجام دهیم، اما در چند ردیف از دیتافریم مقادیر یکی از این دو ستون ثبت نشده است؛ از این رو در این بخش قصد داریم مقادیر مفقوده در این دو ستون را با میانگین همان مولفه در همان کشور پر نماییم. به عنوان مثال چنانچه مقدار <code>lat</code> \n",
    " برای مشهد ثبت نشده باشد، میانگین <code>lat</code>  در دیگر شهر‌های ایران را محاسبه کرده و به عنوان <code>lat</code>  برای شهر مشهد در نظر می‌گیریم.\n",
    "</font>\n",
    "</p>"
   ]
  },
  {
   "cell_type": "code",
   "execution_count": 8,
   "metadata": {},
   "outputs": [],
   "source": [
    "# fill missing values of 'lat' and 'lng' columns\n",
    "df['lat'].fillna(df.groupby('country')['lat'].transform('mean'), inplace=True)\n",
    "df['lng'].fillna(df.groupby('country')['lng'].transform('mean'), inplace=True)"
   ]
  },
  {
   "cell_type": "markdown",
   "metadata": {},
   "source": [
    "<h2 align=right style=\"line-height:200%;font-family:vazir;color:#0099cc\">\n",
    "<font face=\"vazir\" color=\"#0099cc\">\n",
    "محاسبه فاصله از تهران\n",
    "</font>\n",
    "</h2>\n",
    "\n",
    "<p dir=rtl style=\"direction: rtl;text-align: justify;line-height:200%;font-family:vazir;font-size:medium\">\n",
    "<font face=\"vazir\" size=3>\n",
    "در این بخش قصد داریم فاصله هر یک از شهر‌ها را با تهران حساب کنیم. بدین منظور از فرمول هاورسین استفاده خواهیم کرد. این فرمول بر اساس طول جغرافیایی (Logitude) و عرض جغرافیایی (Latitude)  دو نقطه در سطح یک کره، فاصله آنها را حساب می‌کند.\n",
    "فرمول محاسبه فاصله هاورسین در ادامه آورده شده است. برای اطلاعات بیشتر در رابطه با آن می‌توانید به این\n",
    "<a href=\"https://www.movable-type.co.uk/scripts/latlong.html\"> لینک</a>\n",
    " مراجعه کنید. \n",
    "در این بخش از شما خواسته شده است، نخست با توجه به فرمول هاورسین و مقادیر طول و عرض جغرافیایی تهران که از دیتافریم استخراج می‌کنید تابع  <code>haversin_from_teh</code>  را تکمیل کرده تا فاصله هر شهر از تهران را محاسبه کند و سپس با استفاده از این تابع، \n",
    "فاصله هر شهر از تهران را در ستون\n",
    "<code>distance_from_tehran</code>\n",
    "در دیتافریم درج نمایید.\n",
    "</font>\n",
    "</p>"
   ]
  },
  {
   "cell_type": "markdown",
   "metadata": {},
   "source": [
    "<p dir=rtl style=\"direction: rtl;text-align: justify;line-height:200%;font-family:vazir;font-size:medium\">\n",
    "<font face=\"vazir\" size=3>\n",
    "فرمول هاورسین:\n",
    "</font>\n",
    "</p>\n",
    "\n",
    "\n",
    "\n",
    "$\\lambda_1$, $\\lambda_2$ : longitudes of the two points in radians (lng)\n",
    "\n",
    "$\\varphi_1$, $\\varphi_2$ : the latitudes of the two points in radians (lat)\n",
    "\n",
    "$d$ : distance between two cities\n",
    "\n",
    "\n",
    "$$\n",
    "r = 6371\n",
    "$$\n",
    "$$\n",
    "a = \\sin^2\\left(\\frac{\\varphi_2-\\varphi_1}{2}\\right) + \\cos(\\varphi_1)\\cos(\\varphi_2)\\sin^2\\left(\\frac{\\lambda_2-\\lambda_1}{2}\\right)\n",
    "$$\n",
    "$$\n",
    "d = 2r \\operatorname{atan2}\\left(\\sqrt{a}, \\sqrt{1 -a}\\right)\n",
    "$$\n",
    "\n",
    "<p dir=rtl style=\"direction: rtl;text-align: justify;line-height:200%;font-family:vazir;font-size:medium\">\n",
    "<font face=\"vazir\" size=3>\n",
    "<code>تذکر:</code>\n",
    "دقت کنید که مقادیر طول و عرض جغرافیایی ثبت شده در دیتافریم به درجه می‌باشد و برای استفاده از رابطه فوق باید به رادیان تبدیل گردد. همچنین توجه کنید ملاک ارزیابی پاسخ شما فرمول فوق و طول و عرض جغرافیایی تهران که در همین دیتافریم درج شده، می‌باشد.\n",
    "</font>\n",
    "</p>\n"
   ]
  },
  {
   "cell_type": "code",
   "execution_count": 9,
   "metadata": {},
   "outputs": [],
   "source": [
    "def haversine_from_teh(lat, lng):\n",
    "    from math import radians, sin, cos, sqrt, atan2\n",
    "    R = 6371\n",
    "    tehran_row = df[df['city'] == 'Tehran']\n",
    "    lat1 = radians(tehran_row['lat'].values[0])\n",
    "    lng1 = radians(tehran_row['lng'].values[0])\n",
    "    lat = radians(lat)\n",
    "    lng = radians(lng)\n",
    "    dlng = lng - lng1\n",
    "    dlat = lat - lat1\n",
    "\n",
    "    a = sin(dlat / 2)**2 + cos(lat1) * cos(lat) * sin(dlng / 2)**2\n",
    "    c = 2 * atan2(sqrt(a), sqrt(1 - a))\n",
    "\n",
    "    d = R * c\n",
    "    return d"
   ]
  },
  {
   "cell_type": "code",
   "execution_count": 10,
   "metadata": {},
   "outputs": [],
   "source": [
    "# create distance_from_tehran column\n",
    "df['distance_from_tehran'] = df.apply(lambda row: haversine_from_teh(row['lat'], row['lng']), axis=1)"
   ]
  },
  {
   "cell_type": "markdown",
   "metadata": {},
   "source": [
    "<h2 align=right style=\"line-height:200%;font-family:vazir;color:#0099cc\">\n",
    "<font face=\"vazir\" color=\"#0099cc\">\n",
    "مرتب‌سازی و دخیره دیتافریم\n",
    "</font>\n",
    "</h2>\n",
    "\n",
    "<p dir=rtl style=\"direction: rtl;text-align: justify;line-height:200%;font-family:vazir;font-size:medium\">\n",
    "<font face=\"vazir\" size=3>\n",
    "حال شهر‌ها را بر اساس حروف الفبا (به صورت صعودی) و سپس بر اساس مقدار ستون \n",
    "<code>lat</code>\n",
    "(به صورت نزولی)\n",
    " مرتب کرده و دیتافریم <code>df</code> را بدون نمایه‌هایش (index) درون فایلی به نام <code>distances.csv</code> ذخیره کنید. \n",
    "</font>\n",
    "</p>"
   ]
  },
  {
   "cell_type": "code",
   "execution_count": 11,
   "metadata": {},
   "outputs": [],
   "source": [
    "# sort and save dataframe df\n",
    "df.sort_values(by=['city', 'lat'], ascending=[True, False], inplace=True)\n",
    "df.to_csv('distances.csv', index=False)"
   ]
  },
  {
   "cell_type": "markdown",
   "metadata": {},
   "source": [
    "\n",
    "<p dir=rtl style=\"direction: rtl;text-align: justify;line-height:200%;font-family:vazir;font-size:medium\">\n",
    "<font face=\"vazir\" size=3>\n",
    "عمل فوق را بر روی دیتافریم \n",
    "<code>first_df</code>\n",
    "نیز اجرا کنید و با نام \n",
    "<code>cities.csv</code>\n",
    "ذخیره کنید (مرتب‌سازی بر اساس نام شهر (به صورت صعودی) و سپس بر اساس مقدار ستون \n",
    "<code>lat</code>\n",
    "(به صورت نزولی) و ذخیره دیتافریم بدون نمایه).\n",
    "</font>\n",
    "</p>\n",
    "\n"
   ]
  },
  {
   "cell_type": "code",
   "execution_count": 12,
   "metadata": {},
   "outputs": [],
   "source": [
    "# sort and save dataframe first_df\n",
    "first_df.sort_values(by=['city', 'lat'], ascending=[True, False], inplace=True)\n",
    "first_df.to_csv('cities.csv', index=False)"
   ]
  },
  {
   "attachments": {},
   "cell_type": "markdown",
   "metadata": {},
   "source": [
    "<h2 align=right style=\"line-height:200%;font-family:vazir;color:#0099cc\">\n",
    "<font face=\"vazir\" color=\"#0099cc\">\n",
    "<b>سلول جواب‌ساز</b>\n",
    "</font>\n",
    "</h2>\n",
    "\n",
    "\n",
    "<p dir=rtl style=\"direction: rtl; text-align: justify; line-height:200%; font-family:vazir; font-size:medium\">\n",
    "<font face=\"vazir\" size=3>\n",
    "    برای ساخته‌شدن فایل <code>result.zip</code> سلول زیر را اجرا کنید. توجه داشته باشید که پیش از اجرای سلول زیر تغییرات اعمال شده در نت‌بوک را ذخیره کرده باشید (<code>ctrl+s</code>) تا در صورت نیاز به پشتیبانی امکان بررسی کد شما وجود داشته باشد.\n",
    "</font>\n",
    "</p>"
   ]
  },
  {
   "cell_type": "code",
   "execution_count": 13,
   "metadata": {},
   "outputs": [
    {
     "name": "stdout",
     "output_type": "stream",
     "text": [
      "File Paths:\n",
      "['populous_cities.ipynb', 'cities.csv', 'distances.csv']\n"
     ]
    }
   ],
   "source": [
    "import zlib\n",
    "import zipfile\n",
    "\n",
    "def compress(file_names):\n",
    "    print(\"File Paths:\")\n",
    "    print(file_names)\n",
    "    compression = zipfile.ZIP_DEFLATED\n",
    "    with zipfile.ZipFile(\"result.zip\", mode=\"w\") as zf:\n",
    "        for file_name in file_names:\n",
    "            zf.write('./' + file_name, file_name, compress_type=compression)\n",
    "\n",
    "file_names = ['populous_cities.ipynb' , 'cities.csv', 'distances.csv']\n",
    "\n",
    "compress(file_names)"
   ]
  }
 ],
 "metadata": {
  "kernelspec": {
   "display_name": "Python 3",
   "language": "python",
   "name": "python3"
  },
  "language_info": {
   "codemirror_mode": {
    "name": "ipython",
    "version": 3
   },
   "file_extension": ".py",
   "mimetype": "text/x-python",
   "name": "python",
   "nbconvert_exporter": "python",
   "pygments_lexer": "ipython3",
   "version": "3.9.17"
  },
  "orig_nbformat": 4
 },
 "nbformat": 4,
 "nbformat_minor": 2
}
