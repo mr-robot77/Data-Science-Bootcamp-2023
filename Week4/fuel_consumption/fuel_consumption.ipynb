{
 "cells": [
  {
   "attachments": {},
   "cell_type": "markdown",
   "metadata": {},
   "source": [
    "<h1 align=center style=\"line-height:200%;font-family:vazir;color:#0099cc\">\n",
    "<font face=\"vazir\" color=\"#0099cc\">\n",
    "مصرف سوخت\n",
    "</font>\n",
    "</h1>"
   ]
  },
  {
   "attachments": {},
   "cell_type": "markdown",
   "metadata": {},
   "source": [
    "<p dir=rtl style=\"direction: rtl;text-align: justify;line-height:200%;font-family:vazir;font-size:medium\">\n",
    "<font face=\"vazir\" size=3>\n",
    "برای حل این تمرین، شما باید تابع \n",
    "<code>solve</code>\n",
    "را پیاده‌سازی کنید و در نهایت با اجرای سلول جواب‌ساز، کد خود را سیو کنید.\n",
    "<br>\n",
    "<span style=\"color:purple\"><b>توجه مهم:  </b></span>\n",
    "برای حل این تمرین، تنها از لایبرری‌هایی می‌توانید استفاده کنید که در تابع \n",
    "<code>import</code>\n",
    "شده‌اند. به هیچ وجه از لایبرری دیگری استفاده نکنید و ضمناً اسم لایبرری‌ها را نیز تغییر ندهید. در غیر این صورت، سیستم داوری نمی‌تواند کد شما را داوری کند.\n",
    "در این سوال نمی‌توانید از \n",
    "<code>f_oneway</code>\n",
    "استفاده کنید و پیاده‌سازی\n",
    "<code> ANOVA </code>\n",
    "بر‌عهده‌ی خود شماست.\n",
    "</font>\n",
    "</p>"
   ]
  },
  {
   "attachments": {},
   "cell_type": "markdown",
   "metadata": {},
   "source": [
    "<h2 align=right style=\"line-height:200%;font-family:vazir;color:#0099cc\">\n",
    "<font face=\"vazir\" color=\"#0099cc\">\n",
    "ورودی\n",
    "</font>\n",
    "</h2>"
   ]
  },
  {
   "attachments": {},
   "cell_type": "markdown",
   "metadata": {},
   "source": [
    "<p dir=rtl style=\"direction: rtl;text-align: justify;line-height:200%;font-family:vazir;font-size:medium\">\n",
    "<font face=\"vazir\" size=3>\n",
    "از هر کشور، چند ماشین انتخاب شده است و مصرف سوخت آن ماشین‌ها جمع‌آوری شده است. ورودی تابع شما آرایه‌ای از آرایه‌ها خواهد بود که هر آرایه‌ی درونی، حاوی اطلاعات یک کشور به‌خصوص است.\n",
    "</font>\n",
    "</p>"
   ]
  },
  {
   "attachments": {},
   "cell_type": "markdown",
   "metadata": {},
   "source": [
    "<h2 align=right style=\"line-height:200%;font-family:vazir;color:#0099cc\">\n",
    "<font face=\"vazir\" color=\"#0099cc\">\n",
    "خروجی\n",
    "</font>\n",
    "</h2>"
   ]
  },
  {
   "attachments": {},
   "cell_type": "markdown",
   "metadata": {},
   "source": [
    "<p dir=rtl style=\"direction: rtl;text-align: justify;line-height:200%;font-family:vazir;font-size:medium\">\n",
    "<font face=\"vazir\" size=3>\n",
    "خروجی شما ماکسیمم درصدی است که می‌توانید با آن ادعای شرکت فولکس واگن را رد کنید. دقت کنید که تفاوت پاسخ شما با جواب واقعی باید کمتر از \n",
    "<code>1e-2</code>\n",
    "باشد.\n",
    "</font>\n",
    "</p>"
   ]
  },
  {
   "cell_type": "code",
   "execution_count": 6,
   "metadata": {},
   "outputs": [],
   "source": [
    "def solve(arr):\n",
    "    import numpy as np\n",
    "    import scipy.stats as sp\n",
    "    import math as m\n",
    "\n",
    "    # Convert the input array to a NumPy array for easier manipulation\n",
    "    arr = np.array(arr)\n",
    "\n",
    "    # Calculate the number of groups and the number of observations per group\n",
    "    num_groups, num_observations = arr.shape\n",
    "\n",
    "    # Calculate the total mean\n",
    "    total_mean = np.mean(arr)\n",
    "\n",
    "    # Calculate the sum of squares between groups\n",
    "    ss_between = num_observations * np.sum((np.mean(arr, axis=1) - total_mean) ** 2)\n",
    "\n",
    "    # Calculate the sum of squares within groups\n",
    "    ss_within = np.sum((arr - np.mean(arr, axis=1).reshape(num_groups, 1)) ** 2)\n",
    "\n",
    "    # Calculate the mean square between groups\n",
    "    ms_between = ss_between / (num_groups - 1)\n",
    "\n",
    "    # Calculate the mean square within groups\n",
    "    ms_within = ss_within / (num_groups * (num_observations - 1))\n",
    "\n",
    "    # Calculate the F-statistic\n",
    "    f_statistic = ms_between / ms_within\n",
    "\n",
    "    # Calculate the p-value\n",
    "    p_value = 1 - sp.f.cdf(f_statistic, num_groups - 1, num_groups * (num_observations - 1))\n",
    "\n",
    "    # Calculate the maximum percentage at which we can reject the claim\n",
    "    max_reject_percentage = (1 - p_value) * 100\n",
    "\n",
    "    return max_reject_percentage"
   ]
  },
  {
   "cell_type": "code",
   "execution_count": 7,
   "metadata": {},
   "outputs": [
    {
     "name": "stdout",
     "output_type": "stream",
     "text": [
      "88.61520465416272\n"
     ]
    }
   ],
   "source": [
    "# solve([[85, 86, 88, 75, 78, 94, 98, 79, 71, 80],\n",
    "#        [91, 92, 93, 85, 87, 84, 82, 88, 95, 96],\n",
    "#        [79, 78, 88, 94, 92, 85, 83, 85, 82, 81]]) = 88.61\n",
    "print(solve([[85, 86, 88, 75, 78, 94, 98, 79, 71, 80],\n",
    "       [91, 92, 93, 85, 87, 84, 82, 88, 95, 96],\n",
    "       [79, 78, 88, 94, 92, 85, 83, 85, 82, 81]]))"
   ]
  },
  {
   "attachments": {},
   "cell_type": "markdown",
   "metadata": {},
   "source": [
    "<h2 align=right style=\"line-height:200%;font-family:vazir;color:#0099cc\">\n",
    "<font face=\"vazir\" color=\"#0099cc\">\n",
    "<b>سلول جواب‌ساز</b>\n",
    "</font>\n",
    "</h2>\n",
    "\n",
    "\n",
    "<p dir=rtl style=\"direction: rtl; text-align: justify; line-height:200%; font-family:vazir; font-size:medium\">\n",
    "<font face=\"vazir\" size=3>\n",
    "    برای ساخته‌شدن فایل <code>result.zip</code> سلول زیر را اجرا کنید. توجه داشته باشید که پیش از اجرای سلول زیر تغییرات اعمال شده در نت‌بوک را ذخیره کرده باشید (<code>ctrl+s</code>) تا در صورت نیاز به پشتیبانی امکان بررسی کد شما وجود داشته باشد.\n",
    "</font>\n",
    "</p>\n",
    "\n"
   ]
  },
  {
   "cell_type": "code",
   "execution_count": 8,
   "metadata": {},
   "outputs": [
    {
     "name": "stdout",
     "output_type": "stream",
     "text": [
      "The following commands were written to file `solve.py`:\n",
      "def solve(arr):\n",
      "    import numpy as np\n",
      "    import scipy.stats as sp\n",
      "    import math as m\n",
      "\n",
      "    # Convert the input array to a NumPy array for easier manipulation\n",
      "    arr = np.array(arr)\n",
      "\n",
      "    # Calculate the number of groups and the number of observations per group\n",
      "    num_groups, num_observations = arr.shape\n",
      "\n",
      "    # Calculate the total mean\n",
      "    total_mean = np.mean(arr)\n",
      "\n",
      "    # Calculate the sum of squares between groups\n",
      "    ss_between = num_observations * np.sum((np.mean(arr, axis=1) - total_mean) ** 2)\n",
      "\n",
      "    # Calculate the sum of squares within groups\n",
      "    ss_within = np.sum((arr - np.mean(arr, axis=1).reshape(num_groups, 1)) ** 2)\n",
      "\n",
      "    # Calculate the mean square between groups\n",
      "    ms_between = ss_between / (num_groups - 1)\n",
      "\n",
      "    # Calculate the mean square within groups\n",
      "    ms_within = ss_within / (num_groups * (num_observations - 1))\n",
      "\n",
      "    # Calculate the F-statistic\n",
      "    f_statistic = ms_between / ms_within\n",
      "\n",
      "    # Calculate the p-value\n",
      "    p_value = 1 - sp.f.cdf(f_statistic, num_groups - 1, num_groups * (num_observations - 1))\n",
      "\n",
      "    # Calculate the maximum percentage at which we can reject the claim\n",
      "    max_reject_percentage = (1 - p_value) * 100\n",
      "\n",
      "    return max_reject_percentage\n",
      "\n",
      "File Paths:\n",
      "['solve.py', 'fuel_consumption.ipynb']\n"
     ]
    }
   ],
   "source": [
    "import zipfile \n",
    "from inspect import getsource\n",
    "\n",
    "%save solve getsource(solve)\n",
    "\n",
    "def compress(file_names):\n",
    "    print(\"File Paths:\")\n",
    "    print(file_names)\n",
    "    # Select the compression mode ZIP_DEFLATED for compression\n",
    "    # or zipfile.ZIP_STORED to just store the file\n",
    "    compression = zipfile.ZIP_DEFLATED\n",
    "    # create the zip file first parameter path/name, second mode\n",
    "    with zipfile.ZipFile(\"result.zip\", mode=\"w\") as zf:\n",
    "        for file_name in file_names:\n",
    "            # Add file to the zip file\n",
    "            # first parameter file to zip, second filename in zip\n",
    "            zf.write('./' + file_name, file_name, compress_type=compression)\n",
    "\n",
    "file_names = [\"solve.py\", \"fuel_consumption.ipynb\"]\n",
    "compress(file_names)"
   ]
  }
 ],
 "metadata": {
  "kernelspec": {
   "display_name": "qenv",
   "language": "python",
   "name": "python3"
  },
  "language_info": {
   "codemirror_mode": {
    "name": "ipython",
    "version": 3
   },
   "file_extension": ".py",
   "mimetype": "text/x-python",
   "name": "python",
   "nbconvert_exporter": "python",
   "pygments_lexer": "ipython3",
   "version": "3.9.17"
  },
  "orig_nbformat": 4
 },
 "nbformat": 4,
 "nbformat_minor": 2
}
